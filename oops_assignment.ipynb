{
  "nbformat": 4,
  "nbformat_minor": 0,
  "metadata": {
    "colab": {
      "provenance": []
    },
    "kernelspec": {
      "name": "python3",
      "display_name": "Python 3"
    },
    "language_info": {
      "name": "python"
    }
  },
  "cells": [
    {
      "cell_type": "markdown",
      "source": [
        "**1. What are the five key concepts of Object-Oriented Programming (OOP)?**\n",
        "\n",
        "**ANS:-**5 key concepts of OOPS in python:-\n",
        "\n",
        "a)Encapsulation:-Binding data and methods together within a class, hiding internal implementation details and controlling access to data.\n",
        "\n",
        "\n",
        "b)Abstraction:-Focusing on essential feature of an object, presenting only necessary information to outside world while hiding complexities.\n",
        "\n",
        "\n",
        "c)Inheritence:- Creating new class(child class) that inherit properties and methods from existing classes (parent class), allowing for code reuse.\n",
        "\n",
        "\n",
        "d)Polymorphism:-The ability of an object to take on multiple forms depending on context, often achieved through method overloading and overriding.\n",
        "\n",
        "\n",
        "e)Classes & Objects:- Class is a blueprint that defines some properties and behaviours. An object is an instance of a class that has those properties and behaviuors attached."
      ],
      "metadata": {
        "id": "5M3g-Le-1Qvf"
      }
    },
    {
      "cell_type": "markdown",
      "source": [
        "**2. Write a Python class for a `Car` with attributes for `make`, `model`, and `year`. Include a method to display\n",
        "the car's information.**"
      ],
      "metadata": {
        "id": "cNE9YdJI4S5i"
      }
    },
    {
      "cell_type": "code",
      "source": [
        "class Car:\n",
        "  def __init__(self, make, model, year):\n",
        "    self.make = make\n",
        "    self.model = model\n",
        "    self.year = year\n",
        "  def display_info(self):\n",
        "    print('make:', self.make)\n",
        "    print('model:', self.model)\n",
        "    print('make:', self.year)\n",
        "\n",
        "car1= Car('Tata','indigo', 2010)\n",
        "car1.display_info()\n"
      ],
      "metadata": {
        "colab": {
          "base_uri": "https://localhost:8080/"
        },
        "id": "bD5GAT_74mHV",
        "outputId": "a3b42bec-b90a-468d-c5a1-e25178afc541"
      },
      "execution_count": null,
      "outputs": [
        {
          "output_type": "stream",
          "name": "stdout",
          "text": [
            "make: Tata\n",
            "model: indigo\n",
            "make: 2010\n"
          ]
        }
      ]
    },
    {
      "cell_type": "markdown",
      "source": [
        "**3. Explain the difference between instance methods and class methods. Provide an example of each.**\n",
        "\n",
        "**ANS:-**Difference between instance method and class methods in python:-\n",
        "\n",
        "a)**Instance method:** Instance method in python is a function that is defined within a class that operates on instance oe object of that class. It uses SELF as first parameter.\n",
        "\n",
        "**EXAMPLE:-**"
      ],
      "metadata": {
        "id": "RMixg9oH5pj4"
      }
    },
    {
      "cell_type": "code",
      "source": [
        "class Student:\n",
        "  def __init__(self, name,age):\n",
        "    self.name=name  #instance attribute\n",
        "    self.age=age\n",
        "  def show(self):   #instance method\n",
        "    print('name is', self.name,',' ,'age is', self.age)\n",
        "\n",
        "stud1= Student('Rohit',20) #instance of the class\n",
        "stud1.show()\n",
        "stud1.name"
      ],
      "metadata": {
        "colab": {
          "base_uri": "https://localhost:8080/",
          "height": 53
        },
        "id": "wSyPWc427m_c",
        "outputId": "e1fde7b2-e4ff-4a34-aa39-d0cb0839c83d"
      },
      "execution_count": null,
      "outputs": [
        {
          "output_type": "stream",
          "name": "stdout",
          "text": [
            "name is Rohit , age is 20\n"
          ]
        },
        {
          "output_type": "execute_result",
          "data": {
            "text/plain": [
              "'Rohit'"
            ],
            "application/vnd.google.colaboratory.intrinsic+json": {
              "type": "string"
            }
          },
          "metadata": {},
          "execution_count": 4
        }
      ]
    },
    {
      "cell_type": "markdown",
      "source": [
        "b) **Class method:** Class method is bound to the class and not to the particular instance of the class. cls is used as first parameter in class method.\n",
        "\n",
        "**Example:-**"
      ],
      "metadata": {
        "id": "-H_ljlcy8vSt"
      }
    },
    {
      "cell_type": "code",
      "source": [
        "class Math:\n",
        "  @classmethod\n",
        "  def add(cls,a,b):\n",
        "    return a+b\n",
        "Math.add(10,20)"
      ],
      "metadata": {
        "colab": {
          "base_uri": "https://localhost:8080/"
        },
        "id": "IN40JqJA9xZ4",
        "outputId": "32432815-9eee-4ebd-8219-d6d289e43e79"
      },
      "execution_count": null,
      "outputs": [
        {
          "output_type": "execute_result",
          "data": {
            "text/plain": [
              "30"
            ]
          },
          "metadata": {},
          "execution_count": 5
        }
      ]
    },
    {
      "cell_type": "markdown",
      "source": [
        "**4. How does Python implement method overloading? Give an example.**\n",
        "\n",
        "**ANS:-**Method overloading is a feature of oops in python where a class can have multiple methods with the same name but different parameters. However python does not support method overloading in true sense.\n",
        "\n",
        "**EXAMPLE:-**"
      ],
      "metadata": {
        "id": "aXjDgOy2ATQK"
      }
    },
    {
      "cell_type": "code",
      "source": [
        "class Addition:\n",
        "  def add(self,x,y):\n",
        "    return x+y\n",
        "  def add(self, x, y,z):   #this method overrides the previous method\n",
        "      return x+y+z\n",
        "\n",
        "add1= Addition()\n",
        "add1.add(5,7,8)"
      ],
      "metadata": {
        "colab": {
          "base_uri": "https://localhost:8080/"
        },
        "id": "3z8zYft2FFC1",
        "outputId": "a8941f78-1a76-4294-9368-e9421eff56a4"
      },
      "execution_count": null,
      "outputs": [
        {
          "output_type": "execute_result",
          "data": {
            "text/plain": [
              "20"
            ]
          },
          "metadata": {},
          "execution_count": 12
        }
      ]
    },
    {
      "cell_type": "markdown",
      "source": [
        "**5.What are the three types of access modifiers in Python? How are they denoted.**\n",
        "\n",
        "**ANS:-** Three types of acess modifiers in python.\n",
        "\n",
        "1)**PUBLIC:-** public data or method is accessed from anywhere, both within and outside the class. It is denoted by no prefix.\n",
        "\n",
        "**EXAMPLE**\n",
        "\n"
      ],
      "metadata": {
        "id": "FA7V3w-WHu4I"
      }
    },
    {
      "cell_type": "code",
      "source": [
        "class Game:\n",
        "  def __init__(self,gamename, members):\n",
        "    self.gamename=gamename\n",
        "    self.members=members\n",
        "\n",
        "game1= Game('cricket',11)\n",
        "print(game1.gamename)\n",
        "print(game1.members)"
      ],
      "metadata": {
        "colab": {
          "base_uri": "https://localhost:8080/"
        },
        "id": "YK31omwInogV",
        "outputId": "ca69eb88-c500-4bb8-c9da-f2304c953e03"
      },
      "execution_count": null,
      "outputs": [
        {
          "output_type": "stream",
          "name": "stdout",
          "text": [
            "cricket\n",
            "11\n"
          ]
        }
      ]
    },
    {
      "cell_type": "markdown",
      "source": [
        "2)**PRIVATE:-** Private members are intended to be accessed only within the class itself. It is denoted by double underscore '__' prefix.\n",
        "\n",
        "**EXAMPLE**\n",
        "\n",
        "\n"
      ],
      "metadata": {
        "id": "MR8tukYRnlWv"
      }
    },
    {
      "cell_type": "code",
      "source": [
        "class Game:\n",
        "  def __init__(self,gamename, members):\n",
        "    self.__gamename=gamename   #private data\n",
        "    self.__members=members      #private data\n",
        "\n",
        "game1= Game('cricket',11)\n",
        "print(game1._Game__gamename)\n",
        "print(game1._Game__members)"
      ],
      "metadata": {
        "colab": {
          "base_uri": "https://localhost:8080/"
        },
        "id": "XCFkczrUpEbB",
        "outputId": "f2da2499-2668-43b6-98bb-d03ca125dfdb"
      },
      "execution_count": null,
      "outputs": [
        {
          "output_type": "stream",
          "name": "stdout",
          "text": [
            "cricket\n",
            "11\n"
          ]
        }
      ]
    },
    {
      "cell_type": "markdown",
      "source": [
        "3)**PROTECTED:-** Protected member can be accessed within class & subclass using single underscore. '_'  .\n",
        "\n",
        "**EXAMPLE**"
      ],
      "metadata": {
        "id": "OzFHz3R8o4OG"
      }
    },
    {
      "cell_type": "code",
      "source": [
        "class Game:\n",
        "  def __init__(self,gamename, members):\n",
        "    self._gamename=gamename   #protected data\n",
        "    self._members=members      #protected data\n",
        "\n",
        "game1= Game('cricket',11)\n",
        "print(game1._gamename)\n",
        "print(game1._members)"
      ],
      "metadata": {
        "colab": {
          "base_uri": "https://localhost:8080/"
        },
        "id": "ZFH2eTEephS3",
        "outputId": "e3a62b4d-877b-4979-a956-d02a07511e48"
      },
      "execution_count": null,
      "outputs": [
        {
          "output_type": "stream",
          "name": "stdout",
          "text": [
            "cricket\n",
            "11\n"
          ]
        }
      ]
    },
    {
      "cell_type": "markdown",
      "source": [
        "**6. Describe the five types of inheritance in Python. Provide a simple example of multiple inheritance.**\n",
        "\n",
        "**ANS-** 5 types of inheritence:-\n",
        "\n",
        "1) SINGLE INHERITENCE:-  In Single inheritence there is only one base class and one child class.\n",
        "\n",
        "2) MULTI LEVEL INHERITENCE:- In this inheritence, the child class inherits from a intermediate class which itself inherits from another class.\n",
        "\n",
        "3) MULTIPLE CLASS:-In this kind of inheritence, there is two parent class and one child class.\n",
        "\n",
        "4)HIERACHICAL CLASS:- In this kind of inheritence, there is one parent class and multiple (more than one) child class.\n",
        "\n",
        "5)HYBRID INHERITENCE:- It is combination of different inheritence.\n",
        "\n",
        "\n",
        "**SIMPLE EXAMPLE OF MULTIPLE INHERITENCE**"
      ],
      "metadata": {
        "id": "0vs1uyAqq3ve"
      }
    },
    {
      "cell_type": "code",
      "source": [
        "class startcar:\n",
        "  @staticmethod\n",
        "  def start():\n",
        "    print('car started..')\n",
        "class stopcar:\n",
        "  @staticmethod\n",
        "  def stop():\n",
        "    print('car stopped..')\n",
        "class Toyota(startcar, stopcar):\n",
        "  def __init__(self,name):\n",
        "    self.name=name\n",
        "c1=Toyota('innova')\n",
        "c1.start()\n",
        "c1.stop()\n"
      ],
      "metadata": {
        "colab": {
          "base_uri": "https://localhost:8080/"
        },
        "id": "c_6SMRAewWKo",
        "outputId": "fe9ba1d2-88ea-4e4d-d067-b323923c98ad"
      },
      "execution_count": null,
      "outputs": [
        {
          "output_type": "stream",
          "name": "stdout",
          "text": [
            "car started..\n",
            "car stopped..\n"
          ]
        }
      ]
    },
    {
      "cell_type": "markdown",
      "source": [
        "**7. What is the Method Resolution Order (MRO) in Python? How can you retrieve it programmatically?**\n",
        "\n",
        "**ANS=** MRO or Method Resolution Order is process in which python searches for a particular method which is same in all the classes in an hiearchical order.\n",
        "\n",
        "**EXAMPLE:**"
      ],
      "metadata": {
        "id": "pIHoSe6yyWxe"
      }
    },
    {
      "cell_type": "code",
      "source": [
        "class Human:\n",
        "  def eat(self):\n",
        "    print('eating..')\n",
        "  def work(self):\n",
        "    print('working')\n",
        "class Male:\n",
        "  def sleep(self):\n",
        "    print('sleeping')\n",
        "  def work(self):\n",
        "    print('i work')\n",
        "class Boy(Human, Male):\n",
        "  def play(self):\n",
        "    print('playing')\n",
        "  def work(self):\n",
        "    print('i can work')\n",
        "b1= Boy()\n",
        "b1.work()\n",
        "print(Boy.mro()) #this shows that first python will search for the 'work' method in the boy class itself, and then the 'human' class and then 'male' class in an hiearchical order."
      ],
      "metadata": {
        "colab": {
          "base_uri": "https://localhost:8080/"
        },
        "id": "kpNBYaqUGJrc",
        "outputId": "6c9bd17c-1fc2-4179-9c62-1633234a4b48"
      },
      "execution_count": null,
      "outputs": [
        {
          "output_type": "stream",
          "name": "stdout",
          "text": [
            "i can work\n",
            "[<class '__main__.Boy'>, <class '__main__.Human'>, <class '__main__.Male'>, <class 'object'>]\n"
          ]
        }
      ]
    },
    {
      "cell_type": "markdown",
      "source": [
        "**8. Create an abstract base class `Shape` with an abstract method `area()`. Then create two subclasses\n",
        "`Circle` and `Rectangle` that implement the `area()` method.**\n",
        "\n",
        "**ANS**  "
      ],
      "metadata": {
        "id": "mthA5p6yBM4g"
      }
    },
    {
      "cell_type": "code",
      "source": [
        "from abc import ABC, abstractmethod\n",
        "class Shape(ABC):\n",
        "  @abstractmethod\n",
        "  def area(self):\n",
        "    pass\n",
        "class Circle(Shape):\n",
        "  def __init__(self,radius):\n",
        "    self.radius=radius\n",
        "  def area(self):\n",
        "    return 3.14*self.radius*self.radius\n",
        "class Rectangle(Shape):\n",
        "  def __init__(self,length,width):\n",
        "    self.length=length\n",
        "    self.width=width\n",
        "  def area(self):\n",
        "    return self.length*self.width\n",
        "\n",
        "c1=Circle(10)\n",
        "r1=Rectangle(7,8)\n",
        "r1.area(),c1.area()"
      ],
      "metadata": {
        "colab": {
          "base_uri": "https://localhost:8080/"
        },
        "id": "vAxNl5yjFAc6",
        "outputId": "316d59e7-da1f-4ff5-f61c-ee951fc259f8"
      },
      "execution_count": null,
      "outputs": [
        {
          "output_type": "execute_result",
          "data": {
            "text/plain": [
              "(56, 314.0)"
            ]
          },
          "metadata": {},
          "execution_count": 9
        }
      ]
    },
    {
      "cell_type": "markdown",
      "source": [
        "**9. Demonstrate polymorphism by creating a function that can work with different shape objects to calculate\n",
        "and print their areas.**"
      ],
      "metadata": {
        "id": "AZLUro58H-QL"
      }
    },
    {
      "cell_type": "code",
      "source": [
        "from abc import ABC, abstractmethod\n",
        "class Shape(ABC):\n",
        "  @abstractmethod\n",
        "  def area(self):\n",
        "    pass\n",
        "class Circle(Shape):\n",
        "  def __init__(self,radius):\n",
        "    self.radius=radius\n",
        "  def area(self):\n",
        "    return 3.14*self.radius*self.radius\n",
        "class Rectangle(Shape):\n",
        "  def __init__(self,l,b):\n",
        "    self.l=l\n",
        "    self.b=b\n",
        "  def area(self):\n",
        "    return self.l*self.b\n",
        "def calculate_area(Shape):\n",
        "  print('area:',Shape.area())\n",
        "\n",
        "c1=Circle(10)\n",
        "r1=Rectangle(7,8)\n",
        "calculate_area(c1)\n",
        "calculate_area(r1)\n",
        "\n"
      ],
      "metadata": {
        "colab": {
          "base_uri": "https://localhost:8080/"
        },
        "id": "smIusxPmJdAR",
        "outputId": "9cb4f45a-ad54-4de0-ed15-c46bb96a19ab"
      },
      "execution_count": null,
      "outputs": [
        {
          "output_type": "stream",
          "name": "stdout",
          "text": [
            "area: 314.0\n",
            "area: 56\n"
          ]
        }
      ]
    },
    {
      "cell_type": "markdown",
      "source": [
        "**10. Implement encapsulation in a `BankAccount` class with private attributes for `balance` and\n",
        "`account_number`. Include methods for deposit, withdrawal, and balance inquiry.**"
      ],
      "metadata": {
        "id": "fnNS78ZCOFCU"
      }
    },
    {
      "cell_type": "code",
      "source": [
        "class Bankaccount:\n",
        "  def __init__(self,balance,accountno):\n",
        "    self.__balance=balance\n",
        "    self.__accountno=accountno\n",
        "  def deposit(self,amount):\n",
        "    self.__balance+=amount\n",
        "    print('the balance is', self.__balance)\n",
        "  def withdrawal(self,amount):\n",
        "    self.__balance-=amount\n",
        "    print('the balance is', self.__balance)\n",
        "  def balance_inquiry(self):\n",
        "    print('the balance is', self.__balance)\n",
        "\n",
        "account1= Bankaccount(40000, 1234)\n",
        "account1.deposit(10000)\n",
        "account1.withdrawal(5000)\n",
        "account1.balance_inquiry()\n",
        "\n"
      ],
      "metadata": {
        "colab": {
          "base_uri": "https://localhost:8080/"
        },
        "id": "lSXqUAuZOTdF",
        "outputId": "06437ddc-826e-4dc8-c0f4-b7c7418a6789"
      },
      "execution_count": null,
      "outputs": [
        {
          "output_type": "stream",
          "name": "stdout",
          "text": [
            "the balance is 50000\n",
            "the balance is 45000\n",
            "the balance is 45000\n"
          ]
        }
      ]
    },
    {
      "cell_type": "markdown",
      "source": [
        "**11. Write a class that overrides the `__str__` and `__add__` magic methods. What will these methods allow\n",
        "you to do?**"
      ],
      "metadata": {
        "id": "Xqd20_6wQeJR"
      }
    },
    {
      "cell_type": "code",
      "source": [
        "class Point:\n",
        "  def __init__(self, x, y):\n",
        "    self.x=x\n",
        "    self.y=y\n",
        "  def __str__(self):\n",
        "    return f'({self.x},{self.y})'\n",
        "  def __add__(self,other):\n",
        "    return Point(self.x+other.x, self.y+other.y)\n",
        "\n",
        "p1=Point(1,7)\n",
        "p2=Point(2,3)\n",
        "print(p1+p2)\n"
      ],
      "metadata": {
        "colab": {
          "base_uri": "https://localhost:8080/"
        },
        "id": "JaiuGUw1RXMQ",
        "outputId": "ed1dd972-0f62-43bf-912e-84821882972d"
      },
      "execution_count": 3,
      "outputs": [
        {
          "output_type": "stream",
          "name": "stdout",
          "text": [
            "(3,10)\n"
          ]
        }
      ]
    },
    {
      "cell_type": "markdown",
      "source": [
        "**__STR__=**Allows  to control how the object is displayed when printed or converted to a string. This is useful for providing a human-readable representation of your object's state.\n",
        "\n",
        "**__add__=**Allows you to define the behavior of the + operator for your objects. This can be used to perform custom operations when two objects of your class are added together."
      ],
      "metadata": {
        "id": "Lw8ZDUSySN6X"
      }
    },
    {
      "cell_type": "markdown",
      "source": [
        "**12. Create a decorator that measures and prints the execution time of a function.**"
      ],
      "metadata": {
        "id": "clAjGZmeQr9d"
      }
    },
    {
      "cell_type": "code",
      "source": [
        "import time\n",
        "def timerdecorator(func):\n",
        "  def timer():\n",
        "    start=time.time()\n",
        "    func()\n",
        "    end=time.time()\n",
        "    print('time taken:',end-start)\n",
        "  return timer\n",
        "@timerdecorator\n",
        "def multiply():\n",
        "  print(12*13)\n",
        "\n",
        "multiply()"
      ],
      "metadata": {
        "colab": {
          "base_uri": "https://localhost:8080/"
        },
        "id": "sfFf_szGQzdh",
        "outputId": "606ab091-ee4d-4cb9-e062-c09b29a5c75f"
      },
      "execution_count": null,
      "outputs": [
        {
          "output_type": "stream",
          "name": "stdout",
          "text": [
            "156\n",
            "time taken: 0.0008971691131591797\n"
          ]
        }
      ]
    },
    {
      "cell_type": "markdown",
      "source": [
        "**13. Explain the concept of the Diamond Problem in multiple inheritance. How does Python resolve it?**\n",
        "\n",
        "**ANS=**Diamond problem is basically a challenge that occurs when a class inherit from two or more classes who have the common base class.\n",
        "Python resolves it through MRO (Method Resolution Order) using C3 Linearization.\n"
      ],
      "metadata": {
        "id": "GygoMSG1S-ds"
      }
    },
    {
      "cell_type": "markdown",
      "source": [
        "**14. Write a class method that keeps track of the number of instances created from a class.**\n"
      ],
      "metadata": {
        "id": "7Zw2HW1TTm0j"
      }
    },
    {
      "cell_type": "code",
      "source": [
        "class A:\n",
        "  instance_count=0\n",
        "  def __init__(self):\n",
        "    A.instance_count+=1\n",
        "  @classmethod\n",
        "  def get_instance_count(cls):\n",
        "    return cls.instance_count\n",
        "\n",
        "a1=A()\n",
        "a2=A()\n",
        "a3=A()\n",
        "A.get_instance_count"
      ],
      "metadata": {
        "colab": {
          "base_uri": "https://localhost:8080/",
          "height": 104
        },
        "id": "idUaQWcpSvKd",
        "outputId": "e3a8098d-c1f1-48df-e269-dc529dd58091"
      },
      "execution_count": 7,
      "outputs": [
        {
          "output_type": "execute_result",
          "data": {
            "text/plain": [
              "<bound method A.get_instance_count of <class '__main__.A'>>"
            ],
            "text/html": [
              "<div style=\"max-width:800px; border: 1px solid var(--colab-border-color);\"><style>\n",
              "      pre.function-repr-contents {\n",
              "        overflow-x: auto;\n",
              "        padding: 8px 12px;\n",
              "        max-height: 500px;\n",
              "      }\n",
              "\n",
              "      pre.function-repr-contents.function-repr-contents-collapsed {\n",
              "        cursor: pointer;\n",
              "        max-height: 100px;\n",
              "      }\n",
              "    </style>\n",
              "    <pre style=\"white-space: initial; background:\n",
              "         var(--colab-secondary-surface-color); padding: 8px 12px;\n",
              "         border-bottom: 1px solid var(--colab-border-color);\"><b>A.get_instance_count</b><br/>def get_instance_count(cls)</pre><pre class=\"function-repr-contents function-repr-contents-collapsed\" style=\"\"><a class=\"filepath\" style=\"display:none\" href=\"#\">/content/&lt;ipython-input-7-d9bf95335ffe&gt;</a>&lt;no docstring&gt;</pre></div>"
            ]
          },
          "metadata": {},
          "execution_count": 7
        }
      ]
    },
    {
      "cell_type": "markdown",
      "source": [
        "**15. Implement a static method in a class that checks if a given year is a leap year.**"
      ],
      "metadata": {
        "id": "H4ic-LxFT4nw"
      }
    },
    {
      "cell_type": "code",
      "source": [
        "class Leapyearchecker:\n",
        "  @staticmethod\n",
        "  def is_leap_year(year):\n",
        "    if (year%4==0 and year%100!=0) or (year%400==0):\n",
        "      return True\n",
        "    else:\n",
        "      return False\n",
        "\n",
        "  print(is_leap_year(2025))"
      ],
      "metadata": {
        "colab": {
          "base_uri": "https://localhost:8080/"
        },
        "id": "ktoKeQUTTrwL",
        "outputId": "1acdc48b-7802-4f47-b6a7-fbe3da67ef3a"
      },
      "execution_count": 9,
      "outputs": [
        {
          "output_type": "stream",
          "name": "stdout",
          "text": [
            "False\n"
          ]
        }
      ]
    }
  ]
}