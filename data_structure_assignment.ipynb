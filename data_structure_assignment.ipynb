{
  "nbformat": 4,
  "nbformat_minor": 0,
  "metadata": {
    "colab": {
      "provenance": []
    },
    "kernelspec": {
      "name": "python3",
      "display_name": "Python 3"
    },
    "language_info": {
      "name": "python"
    }
  },
  "cells": [
    {
      "cell_type": "markdown",
      "source": [
        "**Q1-Discuss string slicing and provide example.**\n",
        "\n",
        "ANS- String slicing is used to extract a part of the particular string.Its syntax is [start:stop:step]\n",
        "\n",
        "ex:- the given code is example of string slicing:\n",
        "  "
      ],
      "metadata": {
        "id": "_Qxc7NxrN8iU"
      }
    },
    {
      "cell_type": "code",
      "source": [
        "a='pwskills'\n",
        "b=a[1:4]\n",
        "b\n"
      ],
      "metadata": {
        "colab": {
          "base_uri": "https://localhost:8080/",
          "height": 35
        },
        "id": "-_SP40FQPD62",
        "outputId": "2bc4103d-2c3b-4402-c1cd-ba2fbd6b25c3"
      },
      "execution_count": 5,
      "outputs": [
        {
          "output_type": "execute_result",
          "data": {
            "text/plain": [
              "'wsk'"
            ],
            "application/vnd.google.colaboratory.intrinsic+json": {
              "type": "string"
            }
          },
          "metadata": {},
          "execution_count": 5
        }
      ]
    },
    {
      "cell_type": "markdown",
      "source": [
        "**q2-Explain the key features of list in python.**\n",
        "\n",
        "ans= The key features of list in python are:\n",
        "\n",
        "1)it is an ordered collection of elements\n",
        "\n",
        "2) it is heteregenous. It can store any data type.\n",
        "\n",
        "3) they are mutable as it can stare any data type.\n",
        "\n",
        "for example:"
      ],
      "metadata": {
        "id": "2_7OMdRVQLy8"
      }
    },
    {
      "cell_type": "code",
      "source": [
        "b=['a',2, 3, 4.5, (3+5j)]\n",
        "b"
      ],
      "metadata": {
        "colab": {
          "base_uri": "https://localhost:8080/"
        },
        "id": "d0bKuK4vRBGC",
        "outputId": "ad594986-7348-41a1-9e59-0fd6eda90820"
      },
      "execution_count": 6,
      "outputs": [
        {
          "output_type": "execute_result",
          "data": {
            "text/plain": [
              "['a', 2, 3, 4.5, (3+5j)]"
            ]
          },
          "metadata": {},
          "execution_count": 6
        }
      ]
    },
    {
      "cell_type": "markdown",
      "source": [
        "**q3=Describe how to access, modify , and delete elements in a list with examples.**\n",
        "\n",
        "ans: we can access ,modify  elements in a list through indexing.\n",
        "\n",
        "we can delete elements using *pop* function.\n",
        "\n",
        "for example:\n",
        "\n",
        "\n",
        "\n"
      ],
      "metadata": {
        "id": "SlEFYFCzRMZy"
      }
    },
    {
      "cell_type": "code",
      "source": [
        "list1=['apple','mango', 1,2,3]\n",
        "list1"
      ],
      "metadata": {
        "colab": {
          "base_uri": "https://localhost:8080/"
        },
        "id": "iv6tBEAyR-4Y",
        "outputId": "39ae3707-e058-482a-c012-7fcc2036fefb"
      },
      "execution_count": 7,
      "outputs": [
        {
          "output_type": "execute_result",
          "data": {
            "text/plain": [
              "['apple', 'mango', 1, 2, 3]"
            ]
          },
          "metadata": {},
          "execution_count": 7
        }
      ]
    },
    {
      "cell_type": "code",
      "source": [
        "list1[1]  #accesing element through indexing"
      ],
      "metadata": {
        "colab": {
          "base_uri": "https://localhost:8080/",
          "height": 35
        },
        "id": "XyBBBEKrSLak",
        "outputId": "ffc828b1-ab18-4fb0-d7e0-0a8ca701e020"
      },
      "execution_count": 8,
      "outputs": [
        {
          "output_type": "execute_result",
          "data": {
            "text/plain": [
              "'mango'"
            ],
            "application/vnd.google.colaboratory.intrinsic+json": {
              "type": "string"
            }
          },
          "metadata": {},
          "execution_count": 8
        }
      ]
    },
    {
      "cell_type": "code",
      "source": [
        "list1[2]='banana'     #modifying elements through indexing\n",
        "list1"
      ],
      "metadata": {
        "colab": {
          "base_uri": "https://localhost:8080/"
        },
        "id": "TC1uPIAKSZXI",
        "outputId": "c4fbe458-d327-4d89-b22c-42bee49e8404"
      },
      "execution_count": 9,
      "outputs": [
        {
          "output_type": "execute_result",
          "data": {
            "text/plain": [
              "['apple', 'mango', 'banana', 2, 3]"
            ]
          },
          "metadata": {},
          "execution_count": 9
        }
      ]
    },
    {
      "cell_type": "code",
      "source": [
        "list1.pop(4)      #deleting element using pop function"
      ],
      "metadata": {
        "colab": {
          "base_uri": "https://localhost:8080/"
        },
        "id": "krQuY5nzTDm2",
        "outputId": "0a239196-44cb-4986-e7a0-884d9c8bfc9d"
      },
      "execution_count": 10,
      "outputs": [
        {
          "output_type": "execute_result",
          "data": {
            "text/plain": [
              "3"
            ]
          },
          "metadata": {},
          "execution_count": 10
        }
      ]
    },
    {
      "cell_type": "code",
      "source": [
        "list1"
      ],
      "metadata": {
        "colab": {
          "base_uri": "https://localhost:8080/"
        },
        "id": "CAxG47iDTJfH",
        "outputId": "bad812aa-eafa-4f62-cae1-d33155da93a4"
      },
      "execution_count": 11,
      "outputs": [
        {
          "output_type": "execute_result",
          "data": {
            "text/plain": [
              "['apple', 'mango', 'banana', 2]"
            ]
          },
          "metadata": {},
          "execution_count": 11
        }
      ]
    },
    {
      "cell_type": "markdown",
      "source": [
        "**Q4-compare and contrast tuples and list with examples.**\n",
        "\n",
        "ans-**Tuples-**Tuples are ordered collection of elements, are heteregenous in nature and are immutable. Tuple are enclosed in () brackets.\n",
        "\n",
        "FOR EXAMPLE-\n"
      ],
      "metadata": {
        "id": "y6xx61NRTUgh"
      }
    },
    {
      "cell_type": "code",
      "source": [
        "tuple1=('abc','pwskills',1,2,3,4.5)\n",
        "tuple1"
      ],
      "metadata": {
        "colab": {
          "base_uri": "https://localhost:8080/"
        },
        "id": "PcePKjSST-h_",
        "outputId": "4d30cb39-6e66-4f8a-e0a5-335af772ee61"
      },
      "execution_count": 12,
      "outputs": [
        {
          "output_type": "execute_result",
          "data": {
            "text/plain": [
              "('abc', 'pwskills', 1, 2, 3, 4.5)"
            ]
          },
          "metadata": {},
          "execution_count": 12
        }
      ]
    },
    {
      "cell_type": "markdown",
      "source": [
        "**Lists-**Lists are also ordered collection of items , are heterogenous but are mutable in nature which means values in a list can be changed after the list is created. lists are enclosed in [] brackets.\n",
        "\n",
        "FOR EXAMPLE-"
      ],
      "metadata": {
        "id": "BbBrWrznUbVW"
      }
    },
    {
      "cell_type": "code",
      "source": [
        "list2=['pwskills', 1, 2,'abc']\n",
        "list2"
      ],
      "metadata": {
        "colab": {
          "base_uri": "https://localhost:8080/"
        },
        "id": "i8RXyamdU8f6",
        "outputId": "13465060-8d03-4d6f-84c8-3a25ebde119e"
      },
      "execution_count": 13,
      "outputs": [
        {
          "output_type": "execute_result",
          "data": {
            "text/plain": [
              "['pwskills', 1, 2, 'abc']"
            ]
          },
          "metadata": {},
          "execution_count": 13
        }
      ]
    },
    {
      "cell_type": "markdown",
      "source": [
        "**Q5- Describe key features of sets and provide examples of their use.**\n",
        "\n",
        "ans-The key features of sets are:\n",
        "\n",
        "1) They are unordered and unique collection of elements.\n",
        "\n",
        "2) They do not allow duplicate elements.\n",
        "\n",
        "3)They do not have index beacuse of unorderability.\n",
        "\n",
        "4) sets are enclosed in {} brackets.\n",
        "\n",
        "FOR EXAMPLE:"
      ],
      "metadata": {
        "id": "A2z2iCObVomb"
      }
    },
    {
      "cell_type": "code",
      "source": [
        "set1={'a','b','c','a','c',1,2,3,3,2}\n",
        "set1         #it stores only unique elements."
      ],
      "metadata": {
        "colab": {
          "base_uri": "https://localhost:8080/"
        },
        "id": "ipwVx0biXD-2",
        "outputId": "4b7be4e7-0082-48a9-cda0-81b3d3c02d5a"
      },
      "execution_count": 14,
      "outputs": [
        {
          "output_type": "execute_result",
          "data": {
            "text/plain": [
              "{1, 2, 3, 'a', 'b', 'c'}"
            ]
          },
          "metadata": {},
          "execution_count": 14
        }
      ]
    },
    {
      "cell_type": "markdown",
      "source": [
        "example for use case of set:"
      ],
      "metadata": {
        "id": "y654Zq59XkYz"
      }
    },
    {
      "cell_type": "code",
      "source": [
        "listt=['tomato','brinjal','brinjal','onion']   #suppose it is a list of vegetable by family members that needs to be brought from market.\n",
        "listt"
      ],
      "metadata": {
        "colab": {
          "base_uri": "https://localhost:8080/"
        },
        "id": "-ja7ybeHXpaM",
        "outputId": "869e67d5-35b1-4c95-ab93-61b79df199a5"
      },
      "execution_count": 15,
      "outputs": [
        {
          "output_type": "execute_result",
          "data": {
            "text/plain": [
              "['tomato', 'brinjal', 'brinjal', 'onion']"
            ]
          },
          "metadata": {},
          "execution_count": 15
        }
      ]
    },
    {
      "cell_type": "code",
      "source": [
        "listtt=set(listt)    #as the list is created as set the vegetables which were repeated now returned as only unique element.\n",
        "listtt"
      ],
      "metadata": {
        "colab": {
          "base_uri": "https://localhost:8080/"
        },
        "id": "CAwkm1VDYGOB",
        "outputId": "b8755805-da47-4e6f-cb82-25aa6851afc4"
      },
      "execution_count": 17,
      "outputs": [
        {
          "output_type": "execute_result",
          "data": {
            "text/plain": [
              "{'brinjal', 'onion', 'tomato'}"
            ]
          },
          "metadata": {},
          "execution_count": 17
        }
      ]
    },
    {
      "cell_type": "markdown",
      "source": [
        "**Q6-Discuss the use case of tuples and sets in python programming.**\n",
        "\n",
        "ans-**tuples=**Tuples are useful for representing fixed data sets and configuaration.\n",
        "\n",
        "**for example=**Imagine a museum exhibit with a artifacts in a fixed display case. these artefacts(data) are fixed in their place (immuatable) and cannot be rearranged or removed ensuring their preservation.\n",
        "\n",
        "**sets**=are collection of unique elements. they are useful for finding membership (if an item exists) or finding the intersection(difference between sets.)\n",
        "\n",
        "**for example:**Imagine a set of unique keys on a key ring. The order you put them on a ring doesnt matter and you can quickly check if a specific key (element) is present on the ring.\n"
      ],
      "metadata": {
        "id": "UCUDgnb0YeCB"
      }
    },
    {
      "cell_type": "markdown",
      "source": [
        "**Q7-Describe how to add , modify and delete items in a dictionary with examples.**\n",
        "\n",
        "ans=Dictionaries are unordered collection of elements with a unique key value pair.\n",
        "\n",
        "So to add various operations like:\n",
        "\n",
        "**ADD=** We can use a direct assignment like dictionary_name[key]=value or .update method.\n",
        "\n",
        "for example"
      ],
      "metadata": {
        "id": "vhnAeaTVboKo"
      }
    },
    {
      "cell_type": "code",
      "source": [
        "dict_1={'pw':'skills' , 'data':'science'}\n",
        "dict_1['a']='b'\n",
        "dict_1"
      ],
      "metadata": {
        "colab": {
          "base_uri": "https://localhost:8080/"
        },
        "id": "VIlaRIyJdQB6",
        "outputId": "cd58b69f-b5d2-4d84-b2dc-6ed5660529ff"
      },
      "execution_count": 21,
      "outputs": [
        {
          "output_type": "execute_result",
          "data": {
            "text/plain": [
              "{'pw': 'skills', 'data': 'science', 'a': 'b'}"
            ]
          },
          "metadata": {},
          "execution_count": 21
        }
      ]
    },
    {
      "cell_type": "markdown",
      "source": [
        "**MODIFY=** We can also modify elements using keys and values in a dictionary.\n",
        "\n",
        "for example"
      ],
      "metadata": {
        "id": "hrPfs9g9d_lX"
      }
    },
    {
      "cell_type": "code",
      "source": [
        "dict_1['data']='analyst'\n",
        "dict_1"
      ],
      "metadata": {
        "colab": {
          "base_uri": "https://localhost:8080/"
        },
        "id": "nIAeMu76eWcK",
        "outputId": "8237cf04-43fd-4b7c-911b-89c6b464ca1f"
      },
      "execution_count": 22,
      "outputs": [
        {
          "output_type": "execute_result",
          "data": {
            "text/plain": [
              "{'pw': 'skills', 'data': 'analyst', 'a': 'b'}"
            ]
          },
          "metadata": {},
          "execution_count": 22
        }
      ]
    },
    {
      "cell_type": "markdown",
      "source": [
        "**delete=**  to delete an item in a dictionary we can use  del dictionary_name[key], .pop(key), or .popitem().\n",
        "\n",
        "for example"
      ],
      "metadata": {
        "id": "6QwKdJ8OekAz"
      }
    },
    {
      "cell_type": "code",
      "source": [
        "del dict_1['a']\n",
        "\n",
        "dict_1"
      ],
      "metadata": {
        "colab": {
          "base_uri": "https://localhost:8080/"
        },
        "id": "1T8LE7axe-fc",
        "outputId": "0b92735c-35ac-4119-a508-95d62c57cbe1"
      },
      "execution_count": 23,
      "outputs": [
        {
          "output_type": "execute_result",
          "data": {
            "text/plain": [
              "{'pw': 'skills', 'data': 'analyst'}"
            ]
          },
          "metadata": {},
          "execution_count": 23
        }
      ]
    },
    {
      "cell_type": "markdown",
      "source": [
        "**q8=Discuss the importance of dictionary keys being immuatable and provide examples.**\n",
        "\n",
        "ans= It is important for the key to be immutable because it ensures that the dictionary can efficiently look up values based on their keys.\n",
        "\n",
        "If the keys were mutable, then would be very difficult to find the values associated to a particular key.\n",
        "\n",
        "for example=\n"
      ],
      "metadata": {
        "id": "wuRtmWfrfP6y"
      }
    },
    {
      "cell_type": "code",
      "source": [
        "dict_2={'ramesh':'gupta', 'age':35, 'occupation':'data scientist'}\n",
        "dict_2\n"
      ],
      "metadata": {
        "colab": {
          "base_uri": "https://localhost:8080/"
        },
        "id": "WdoKSnKlgsoa",
        "outputId": "70318693-728b-41ac-b7f9-24af2a0324e4"
      },
      "execution_count": 24,
      "outputs": [
        {
          "output_type": "execute_result",
          "data": {
            "text/plain": [
              "{'ramesh': 'gupta', 'age': 35, 'occupation': 'data scientist'}"
            ]
          },
          "metadata": {},
          "execution_count": 24
        }
      ]
    },
    {
      "cell_type": "code",
      "source": [
        "dict_2['ramesh']    #as 'ramesh' is key, we can easily access its value that is 'gupta'"
      ],
      "metadata": {
        "colab": {
          "base_uri": "https://localhost:8080/",
          "height": 35
        },
        "id": "0QDMgZZkhLM0",
        "outputId": "3d93ec8b-22ac-4496-c984-f80eeab5cb4e"
      },
      "execution_count": 25,
      "outputs": [
        {
          "output_type": "execute_result",
          "data": {
            "text/plain": [
              "'gupta'"
            ],
            "application/vnd.google.colaboratory.intrinsic+json": {
              "type": "string"
            }
          },
          "metadata": {},
          "execution_count": 25
        }
      ]
    }
  ]
}