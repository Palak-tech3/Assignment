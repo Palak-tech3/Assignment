{
  "nbformat": 4,
  "nbformat_minor": 0,
  "metadata": {
    "colab": {
      "provenance": []
    },
    "kernelspec": {
      "name": "python3",
      "display_name": "Python 3"
    },
    "language_info": {
      "name": "python"
    }
  },
  "cells": [
    {
      "cell_type": "markdown",
      "source": [
        "**THEORETICAL QUESTIONS**\n",
        "\n",
        "**1. Explain the purpose and advantages of NumPy in scientific computing and data analysis. How does it\n",
        "enhance Python's capabilities for numerical operations?**\n",
        "\n",
        "ans1:-NumPy is a fundamental library in Python for scientific computing. It offers powerful features for working with multidimensional arrays and performing various mathematical operations efficiently.\n",
        "\n",
        "NumPy (Numerical Python) is an open source Python library that has a wide range of inbuilt functions.\n",
        "\n",
        "Advantage of Numpy :NumPy is ideal for handling large amounts of homogeneous (same-type) data, offering significant improvements in speed and memory efficiency. It also provides high-level syntax for a wide range of numerical operations, making it a powerful tool for scientific computing and data processing on the CPU.\n",
        "\n",
        "\n"
      ],
      "metadata": {
        "id": "DOmjT_GMiJW4"
      }
    },
    {
      "cell_type": "markdown",
      "source": [
        "**2. Compare and contrast np.mean() and np.average() functions in NumPy. When would you use one over the\n",
        "other?**\n",
        "\n",
        "ans2:-In numpy, np.mean() calculates the arithmetic mean or simple average of an array, while np.average() can compute both simple and weighted averages.\n",
        "\n",
        "np.mean() can be used if all values in the array have equal importance whereas np.average() is used when different weights to values are assigned, reflecting their relative importance."
      ],
      "metadata": {
        "id": "yY71GQnuiuWj"
      }
    },
    {
      "cell_type": "markdown",
      "source": [
        "**3. Describe the methods for reversing a NumPy array along different axes. Provide examples for 1D and 2D\n",
        "arrays.**\n",
        "\n",
        "ans:-The np.flip() function in numpy can be used to reverse the order of elements in numpy array along a specified axis. For 1D array , the default axis is 0 and for 2D array , axis can be specified along the rows(axis=0) or columns (axis-1).\n",
        "\n",
        "FOR EXAMPLE:"
      ],
      "metadata": {
        "id": "DtjerrZRE1PW"
      }
    },
    {
      "cell_type": "code",
      "source": [
        "#for 1d array\n",
        "import numpy as np\n",
        "arr=np.array([1,2,3,4,5])\n",
        "reversed_arr=np.flip(arr)\n",
        "print(reversed_arr)"
      ],
      "metadata": {
        "colab": {
          "base_uri": "https://localhost:8080/"
        },
        "id": "knwPkGXNGwPd",
        "outputId": "b71006da-5c7b-43cc-cdf0-13bf8a0e77d5"
      },
      "execution_count": null,
      "outputs": [
        {
          "output_type": "stream",
          "name": "stdout",
          "text": [
            "[5 4 3 2 1]\n"
          ]
        }
      ]
    },
    {
      "cell_type": "code",
      "source": [
        "#for 2d array\n",
        "import numpy as np\n",
        "arr=np.array([[1,2,3],[4,5,6]])\n",
        "reversed_arr=np.flip(arr,axis=1)\n",
        "print(reversed_arr)"
      ],
      "metadata": {
        "colab": {
          "base_uri": "https://localhost:8080/"
        },
        "id": "EW9sjhhxG2kv",
        "outputId": "3952c6f8-91a2-46d1-9e75-151148547650"
      },
      "execution_count": null,
      "outputs": [
        {
          "output_type": "stream",
          "name": "stdout",
          "text": [
            "[[3 2 1]\n",
            " [6 5 4]]\n"
          ]
        }
      ]
    },
    {
      "cell_type": "markdown",
      "source": [
        "**4. How can you determine the data type of elements in a NumPy array? Discuss the importance of data types\n",
        "in memory management and performance.**\n",
        "\n",
        "ans:- Data types of elements can be determined in numpy arrays by using \"dtype\" attributes.\n",
        "\n",
        "FOR EXAMPLE:"
      ],
      "metadata": {
        "id": "_ZPy5FbqHMov"
      }
    },
    {
      "cell_type": "code",
      "source": [
        "import numpy as np\n",
        "a=np.array([1,2,3,4])\n",
        "print(a.dtype)"
      ],
      "metadata": {
        "colab": {
          "base_uri": "https://localhost:8080/"
        },
        "id": "ETu_hezhH-GZ",
        "outputId": "ddfc9338-8152-4a67-bd4c-0677dad701e6"
      },
      "execution_count": null,
      "outputs": [
        {
          "output_type": "stream",
          "name": "stdout",
          "text": [
            "int64\n"
          ]
        }
      ]
    },
    {
      "cell_type": "markdown",
      "source": [
        "NumPy arrays are homogeneous, meaning all elements have the same data type. This allows NumPy to allocate memory efficiently and store the data in a contiguous block.\n",
        "\n",
        "NumPy operations are optimized for specific data types. Using the correct data type can lead to faster computations.\n",
        "Type mismatches can result in unnecessary type conversions, slowing down performance.\n"
      ],
      "metadata": {
        "id": "5Rq8Rv4VIdC1"
      }
    },
    {
      "cell_type": "markdown",
      "source": [
        "**5. Define ndarrays in NumPy and explain their key features. How do they differ from standard Python lists?**\n",
        "\n",
        "ans:-In NumPy, ndarrays (N-dimensional arrays) are the fundamental data structure for representing and manipulating numerical data. They are essentially multidimensional grids of elements.\n",
        "\n",
        "Key Features of ndarrays:\n",
        "\n",
        "Homogeneous Data Type: All elements in an ndarray have the same data type, allowing for efficient storage and operations.\n",
        "Multidimensional: ndarrays can represent data in multiple dimensions, from 1D arrays (vectors) to 2D arrays (matrices) and beyond.\n",
        "Fixed Size: Once created, the size of an ndarray is fixed, unlike Python lists which can dynamically grow or shrink.\n",
        "Element-wise Operations: NumPy provides a wide range of functions for performing element-wise operations on ndarrays, making numerical computations efficient and concise.\n",
        "Broadcasting: NumPy allows for operations between arrays of different shapes, automatically expanding the smaller array to match the dimensions of the larger array. This feature simplifies many numerical computations."
      ],
      "metadata": {
        "id": "GQ2rRD6mIxcz"
      }
    },
    {
      "cell_type": "markdown",
      "source": [
        "**6. Analyze the performance benefits of NumPy arrays over Python lists for large-scale numerical operations.**\n",
        "\n",
        "ans:-Numpy arrays have large benefits over python lists which includes:\n",
        "\n",
        "**Data Storage**: NumPy arrays store data in a contiguous block of memory, while Python lists store pointers to objects scattered in memory. This contiguous storage allows for faster access to elements and efficient vectorized operations.\n",
        "\n",
        "**Data Types**: NumPy arrays are homogeneous, meaning all elements have the same data type. This allows for optimized operations and reduces the overhead of type checking during computations. Python lists can contain elements of different data types, leading to slower performance.\n",
        "\n",
        "\n",
        "**Vectorization**: NumPy provides a wide range of vectorized operations that can be applied to entire arrays at once. These operations are implemented in optimized C code, resulting in significant speed improvements compared to looping through individual elements in Python lists.\n",
        "\n",
        "**Broadcasting**: NumPy's broadcasting feature allows for operations between arrays of different shapes, automatically expanding the smaller array to match the dimensions of the larger array. This simplifies many numerical computations and avoids the need for explicit loops.\n",
        "\n",
        "**Memory Efficiency**: NumPy arrays are more memory-efficient than Python lists, especially for large datasets. This is because NumPy arrays store data in a compact format, while Python lists require additional memory overhead for storing pointers and object metadata.\n"
      ],
      "metadata": {
        "id": "H__r-L97MNwq"
      }
    },
    {
      "cell_type": "markdown",
      "source": [
        "**7. Compare vstack() and hstack() functions in NumPy. Provide examples demonstrating their usage and\n",
        "output.**\n",
        "\n",
        "ans:- vstack is used to stack arrays vertically (row wise). It combines arrays by adding them as new roes on top of each other.\n",
        "\n",
        "FOR EXAMPLE:-\n"
      ],
      "metadata": {
        "id": "tzR-OmRINZQN"
      }
    },
    {
      "cell_type": "code",
      "source": [
        "import numpy as np\n",
        "arr1=np.array([1,2,3])\n",
        "arr2=np.array([4,5,6])\n",
        "stacked_arr=np.vstack((arr1,arr2))\n",
        "print(stacked_arr)"
      ],
      "metadata": {
        "colab": {
          "base_uri": "https://localhost:8080/"
        },
        "id": "c8At7T1ROAIQ",
        "outputId": "f037e176-dcfc-4489-d8b1-00f4e941b42e"
      },
      "execution_count": null,
      "outputs": [
        {
          "output_type": "stream",
          "name": "stdout",
          "text": [
            "[[1 2 3]\n",
            " [4 5 6]]\n"
          ]
        }
      ]
    },
    {
      "cell_type": "markdown",
      "source": [
        "hstack is used to stack arrays horizontally (column wise). It combines arrays by adding them as new columns next to each other.\n",
        "\n",
        "FOR EXAMPLE:-"
      ],
      "metadata": {
        "id": "tTptIidUOQR1"
      }
    },
    {
      "cell_type": "code",
      "source": [
        "import numpy as np\n",
        "arr1=np.array([1,2,3])\n",
        "arr2=np.array([4,5,6])\n",
        "stacked_arr=np.hstack((arr1,arr2))\n",
        "print(stacked_arr)"
      ],
      "metadata": {
        "colab": {
          "base_uri": "https://localhost:8080/"
        },
        "id": "oI5RgfthOgsd",
        "outputId": "55e5ef53-4ee7-4446-f9aa-1f947219c95f"
      },
      "execution_count": null,
      "outputs": [
        {
          "output_type": "stream",
          "name": "stdout",
          "text": [
            "[1 2 3 4 5 6]\n"
          ]
        }
      ]
    },
    {
      "cell_type": "markdown",
      "source": [
        "**8. Explain the differences between fliplr() and flipud() methods in NumPy, including their effects on various\n",
        "array dimensions.**\n",
        "\n",
        "ans:- The purpose of np.fliplr() is to flip an array in the left/right direction, reversing the order of elements along axis 1 (columns).\n",
        "\n",
        "**effect on array dimensions**\n",
        "\n",
        "**1d array:-**It reverses the order of 1d array. this is equivalent to using np.flip(array) with no axis specified.\n",
        "\n",
        "**2d array:-** It flips the columns of a 2d arrat, effectively, mirroring it horizontally.\n",
        "\n",
        "**higher dimensions:-** It only flips along the second axis (axis 1) and leaves other dimensions unchanged.\n",
        "\n",
        "FOR EXAMPLE:-"
      ],
      "metadata": {
        "id": "g2wCP_lAOtvQ"
      }
    },
    {
      "cell_type": "code",
      "source": [
        "import numpy as np\n",
        "arr=np.array([[1,2,3],[4,5,6]])\n",
        "flipped_lr=np.fliplr(arr)\n",
        "print(flipped_lr)"
      ],
      "metadata": {
        "colab": {
          "base_uri": "https://localhost:8080/"
        },
        "id": "5hCp5dFnQJdU",
        "outputId": "9fd5d4ce-0dcd-42af-fc5f-a6cdd4ca45cc"
      },
      "execution_count": null,
      "outputs": [
        {
          "output_type": "stream",
          "name": "stdout",
          "text": [
            "[[3 2 1]\n",
            " [6 5 4]]\n"
          ]
        }
      ]
    },
    {
      "cell_type": "markdown",
      "source": [
        "The purpose of np.flipud() is to flip an array in the up/down direction, reversing the order of elements along axis 0 (rows).\n",
        "\n",
        "**Effect on Array Dimensions**\n",
        "\n",
        "**1D Arrays:** flipud() reverses the elements of a 1D array, similar to fliplr() and np.flip(array).\n",
        "\n",
        "**2D Arrays:** It flips the rows of a 2D array, mirroring it vertically.\n",
        "\n",
        "**Higher Dimensions:** It only flips along the first axis (axis 0) and keeps other dimensions as they are.\n",
        "\n",
        "FOR EXAMPLE:-"
      ],
      "metadata": {
        "id": "ygFmB2_sQKFt"
      }
    },
    {
      "cell_type": "code",
      "source": [
        "import numpy as np\n",
        "arr=np.array([[1,2,3],[4,5,6]])\n",
        "flipped_ud=np.flipud(arr)\n",
        "print(flipped_ud)\n"
      ],
      "metadata": {
        "colab": {
          "base_uri": "https://localhost:8080/"
        },
        "id": "p6n_BuPRRaF4",
        "outputId": "f614a96f-6bef-4b41-ae99-be7dc550b741"
      },
      "execution_count": null,
      "outputs": [
        {
          "output_type": "stream",
          "name": "stdout",
          "text": [
            "[[4 5 6]\n",
            " [1 2 3]]\n"
          ]
        }
      ]
    },
    {
      "cell_type": "markdown",
      "source": [
        "**9. Discuss the functionality of the array_split() method in NumPy. How does it handle uneven splits?**\n",
        "\n",
        "ans:-The array_split() method in NumPy is used to split an array into multiple sub-arrays. You can specify the number of sub-arrays you want or the indices where you want to split the array. It's a more general version of the split() method, as it allows for uneven splits, meaning the sub-arrays don't have to be of equal size.\n",
        "\n",
        "**Handling Uneven Splits**\n",
        "\n",
        "When you split an array into a number of sub-arrays that doesn't divide evenly into the array's size, array_split() handles it by making some sub-arrays slightly larger or smaller to accommodate the split. It tries to distribute the elements as evenly as possible among the sub-arrays.\n",
        "\n",
        "FOR EXAMPLE:-\n"
      ],
      "metadata": {
        "id": "j-pnEnFSRuAf"
      }
    },
    {
      "cell_type": "code",
      "source": [
        "import numpy as np\n",
        "arr= np.array([1,2,3,4,5,6])\n",
        "sub_arrays=np.array_split(arr,3)\n",
        "for sub_array in sub_arrays:\n",
        "  print(sub_array)"
      ],
      "metadata": {
        "colab": {
          "base_uri": "https://localhost:8080/"
        },
        "id": "2xxpNP6XSphX",
        "outputId": "ffb2024c-6b42-43f7-e1a9-41e6356693fd"
      },
      "execution_count": null,
      "outputs": [
        {
          "output_type": "stream",
          "name": "stdout",
          "text": [
            "[1 2]\n",
            "[3 4]\n",
            "[5 6]\n"
          ]
        }
      ]
    },
    {
      "cell_type": "markdown",
      "source": [
        "**10. Explain the concepts of vectorization and broadcasting in NumPy. How do they contribute to efficient array\n",
        "operations?**\n",
        "\n",
        "ans:-Vectorization is the process of applying operations to entire arrays instead of individual elements. This eliminates the need for explicit loops in Python, which can be slow. NumPy uses optimized, pre-compiled C code for array operations, making them significantly faster than traditional Python loops.\n",
        "\n",
        "FOR EXAMPLE:-"
      ],
      "metadata": {
        "id": "RFODucrWTVWX"
      }
    },
    {
      "cell_type": "code",
      "source": [
        "import numpy as np\n",
        "a=np.array([1,2,3,4])\n",
        "b=np.array([5,6,7,8])\n",
        "c=a+b\n",
        "print(c)"
      ],
      "metadata": {
        "colab": {
          "base_uri": "https://localhost:8080/"
        },
        "id": "jU6-XivaT8D4",
        "outputId": "ab5fe014-11fc-4c12-bc93-911f29eeca16"
      },
      "execution_count": null,
      "outputs": [
        {
          "output_type": "stream",
          "name": "stdout",
          "text": [
            "[ 6  8 10 12]\n"
          ]
        }
      ]
    },
    {
      "cell_type": "markdown",
      "source": [
        "Broadcasting is a powerful mechanism in NumPy that allows operations between arrays of different shapes, as long as their dimensions are compatible. NumPy automatically \"stretches\" the smaller array to match the shape of the larger array, enabling element-wise operations without explicit copying of data."
      ],
      "metadata": {
        "id": "BhQj9qEQUxjB"
      }
    },
    {
      "cell_type": "code",
      "source": [
        "import numpy as np\n",
        "a= np.array([[1,2,3],[4,5,6]])\n",
        "b= np.array([10,20,30])\n",
        "c=a+b\n",
        "print(c)"
      ],
      "metadata": {
        "colab": {
          "base_uri": "https://localhost:8080/"
        },
        "id": "FmMl6JjVU9OJ",
        "outputId": "f66ab0b6-48c3-4c3c-a573-c222ff24e5fd"
      },
      "execution_count": null,
      "outputs": [
        {
          "output_type": "stream",
          "name": "stdout",
          "text": [
            "[[11 22 33]\n",
            " [14 25 36]]\n"
          ]
        }
      ]
    },
    {
      "cell_type": "markdown",
      "source": [
        "**PRACTICAL QUESTIONS**\n",
        "\n",
        "**1. Create a 3x3 NumPy array with random integers between 1 and 100. Then, interchange its rows and columns**"
      ],
      "metadata": {
        "id": "lrSMy99IAoA8"
      }
    },
    {
      "cell_type": "code",
      "source": [
        "import numpy as np\n",
        "arr1= np.random.randint(1,100,size=(3,3))\n",
        "print(arr1)\n",
        "arr1.T    #to interchange rows and columns"
      ],
      "metadata": {
        "colab": {
          "base_uri": "https://localhost:8080/"
        },
        "id": "GBBMSs03A0Jf",
        "outputId": "24e5d89b-a121-44e6-81d9-f5fdef5168cc"
      },
      "execution_count": null,
      "outputs": [
        {
          "output_type": "stream",
          "name": "stdout",
          "text": [
            "[[73  1 85]\n",
            " [60 36 27]\n",
            " [28 57 67]]\n"
          ]
        },
        {
          "output_type": "execute_result",
          "data": {
            "text/plain": [
              "array([[73, 60, 28],\n",
              "       [ 1, 36, 57],\n",
              "       [85, 27, 67]])"
            ]
          },
          "metadata": {},
          "execution_count": 2
        }
      ]
    },
    {
      "cell_type": "markdown",
      "source": [
        "**2. Generate a 1D NumPy array with 10 elements. Reshape it into a 2x5 array, then into a 5x2 array.**"
      ],
      "metadata": {
        "id": "7HcucT4jBo5_"
      }
    },
    {
      "cell_type": "code",
      "source": [
        "import numpy as np\n",
        "arr1=np.arange(10)\n",
        "print(arr1)\n",
        "arr2=arr1.reshape(2,5)\n",
        "print(arr2)\n",
        "arr3=arr2.reshape(5,2)\n",
        "print(arr3)"
      ],
      "metadata": {
        "colab": {
          "base_uri": "https://localhost:8080/"
        },
        "id": "CDDZzUFCBuY6",
        "outputId": "3ed6981a-e003-4f8e-b65b-f49f47088a11"
      },
      "execution_count": null,
      "outputs": [
        {
          "output_type": "stream",
          "name": "stdout",
          "text": [
            "[0 1 2 3 4 5 6 7 8 9]\n",
            "[[0 1 2 3 4]\n",
            " [5 6 7 8 9]]\n",
            "[[0 1]\n",
            " [2 3]\n",
            " [4 5]\n",
            " [6 7]\n",
            " [8 9]]\n"
          ]
        }
      ]
    },
    {
      "cell_type": "markdown",
      "source": [
        "**3. Create a 4x4 NumPy array with random float values. Add a border of zeros around it, resulting in a 6x6 array.**"
      ],
      "metadata": {
        "id": "AuRHJGzgB6Ll"
      }
    },
    {
      "cell_type": "code",
      "source": [
        "import numpy as np\n",
        "arr1= np.random.rand(4,4)\n",
        "print(arr1)\n",
        "array_6x6=np.zeros((6,6))\n",
        "array_6x6[1:5,1:5]= arr1\n",
        "print(array_6x6)"
      ],
      "metadata": {
        "colab": {
          "base_uri": "https://localhost:8080/"
        },
        "id": "RjV7h8mJCCY7",
        "outputId": "a914262c-c591-47fe-abfb-c1bacb8ec547"
      },
      "execution_count": null,
      "outputs": [
        {
          "output_type": "stream",
          "name": "stdout",
          "text": [
            "[[0.30986756 0.57330053 0.50193457 0.8956695 ]\n",
            " [0.99801007 0.78126596 0.32738046 0.76878754]\n",
            " [0.62402235 0.41688417 0.23750444 0.49441682]\n",
            " [0.18013671 0.54802252 0.92703569 0.48395531]]\n",
            "[[0.         0.         0.         0.         0.         0.        ]\n",
            " [0.         0.30986756 0.57330053 0.50193457 0.8956695  0.        ]\n",
            " [0.         0.99801007 0.78126596 0.32738046 0.76878754 0.        ]\n",
            " [0.         0.62402235 0.41688417 0.23750444 0.49441682 0.        ]\n",
            " [0.         0.18013671 0.54802252 0.92703569 0.48395531 0.        ]\n",
            " [0.         0.         0.         0.         0.         0.        ]]\n"
          ]
        }
      ]
    },
    {
      "cell_type": "markdown",
      "source": [
        "**4. Using NumPy, create an array of integers from 10 to 60 with a step of 5.**"
      ],
      "metadata": {
        "id": "XTCZ5HNZEMHW"
      }
    },
    {
      "cell_type": "code",
      "source": [
        "import numpy as np\n",
        "arr= np.arange(10,60,5)\n",
        "print(arr)"
      ],
      "metadata": {
        "colab": {
          "base_uri": "https://localhost:8080/"
        },
        "id": "Jgh8yPTJEchs",
        "outputId": "b3e63b6a-8d4d-4c91-e9d9-b58ab08010f9"
      },
      "execution_count": null,
      "outputs": [
        {
          "output_type": "stream",
          "name": "stdout",
          "text": [
            "[10 15 20 25 30 35 40 45 50 55]\n"
          ]
        }
      ]
    },
    {
      "cell_type": "markdown",
      "source": [
        "**5. Create a NumPy array of strings ['python', 'numpy', 'pandas']. Apply different case transformations\n",
        "(uppercase, lowercase, title case, etc.) to each element.**"
      ],
      "metadata": {
        "id": "69e3jAGIEn5w"
      }
    },
    {
      "cell_type": "code",
      "source": [
        "import numpy as np\n",
        "arr= np.array(['python', 'numpy','pandas' ])\n",
        "print(np.char.upper(arr))\n",
        "print(np.char.lower(arr))\n",
        "print(np.char.title(arr))"
      ],
      "metadata": {
        "colab": {
          "base_uri": "https://localhost:8080/"
        },
        "id": "2R4Htm_IEwz7",
        "outputId": "09709b94-db7d-4bc3-b5db-e21d517dd209"
      },
      "execution_count": null,
      "outputs": [
        {
          "output_type": "stream",
          "name": "stdout",
          "text": [
            "['PYTHON' 'NUMPY' 'PANDAS']\n",
            "['python' 'numpy' 'pandas']\n",
            "['Python' 'Numpy' 'Pandas']\n"
          ]
        }
      ]
    },
    {
      "cell_type": "markdown",
      "source": [
        "**6. Generate a NumPy array of words. Insert a space between each character of every word in the array.**\n"
      ],
      "metadata": {
        "id": "gJKXaNmZFxs4"
      }
    },
    {
      "cell_type": "code",
      "source": [
        "import numpy as np\n",
        "def add_space(word):\n",
        "  return \" \".join(word)\n",
        "arr= np.array(['pw','skills','data','science'])\n",
        "spaced_words=np.vectorize(add_space)(arr)\n",
        "print(spaced_words)\n"
      ],
      "metadata": {
        "colab": {
          "base_uri": "https://localhost:8080/"
        },
        "id": "_HLmsmu5HVYe",
        "outputId": "12e4573e-0218-4947-cfbf-4ebf9b8a15ea"
      },
      "execution_count": 2,
      "outputs": [
        {
          "output_type": "stream",
          "name": "stdout",
          "text": [
            "['p w' 's k i l l s' 'd a t a' 's c i e n c e']\n"
          ]
        }
      ]
    },
    {
      "cell_type": "markdown",
      "source": [
        "**7. Create two 2D NumPy arrays and perform element-wise addition, subtraction, multiplication, and division.**\n"
      ],
      "metadata": {
        "id": "E-jK5TAIICwy"
      }
    },
    {
      "cell_type": "code",
      "source": [
        "import numpy as np\n",
        "arr_1= np.array([[10,20,30,40],[50,60,70,80]])\n",
        "arr_2= np.array([[1,2,3,4],[5,6,7,8]])\n",
        "print(arr_1+arr_2)\n",
        "print(arr_1-arr_2)\n",
        "print(arr_1*arr_2)\n",
        "print(arr_1/arr_2)"
      ],
      "metadata": {
        "colab": {
          "base_uri": "https://localhost:8080/"
        },
        "id": "4arq31SMIt8p",
        "outputId": "a1fd84ea-c342-455b-f0dc-2e44b24d9fa4"
      },
      "execution_count": 8,
      "outputs": [
        {
          "output_type": "stream",
          "name": "stdout",
          "text": [
            "[[11 22 33 44]\n",
            " [55 66 77 88]]\n",
            "[[ 9 18 27 36]\n",
            " [45 54 63 72]]\n",
            "[[ 10  40  90 160]\n",
            " [250 360 490 640]]\n",
            "[[10. 10. 10. 10.]\n",
            " [10. 10. 10. 10.]]\n"
          ]
        }
      ]
    },
    {
      "cell_type": "markdown",
      "source": [
        "**8. Use NumPy to create a 5x5 identity matrix, then extract its diagonal elements.**\n"
      ],
      "metadata": {
        "id": "iPKTrj6IJiHE"
      }
    },
    {
      "cell_type": "code",
      "source": [
        "import numpy as np\n",
        "arr_im=np.eye(5)\n",
        "print(arr_im)\n",
        "diagonal_elements=np.diag(arr_im)\n",
        "print(diagonal_elements)\n"
      ],
      "metadata": {
        "colab": {
          "base_uri": "https://localhost:8080/"
        },
        "id": "V-iF42VBJoar",
        "outputId": "9e1bba58-0531-4945-8236-9e8bbb770318"
      },
      "execution_count": 11,
      "outputs": [
        {
          "output_type": "stream",
          "name": "stdout",
          "text": [
            "[[1. 0. 0. 0. 0.]\n",
            " [0. 1. 0. 0. 0.]\n",
            " [0. 0. 1. 0. 0.]\n",
            " [0. 0. 0. 1. 0.]\n",
            " [0. 0. 0. 0. 1.]]\n",
            "[1. 1. 1. 1. 1.]\n"
          ]
        }
      ]
    },
    {
      "cell_type": "markdown",
      "source": [
        "**9. Generate a NumPy array of 100 random integers between 0 and 1000. Find and display all prime numbers in\n",
        "this array.**"
      ],
      "metadata": {
        "id": "VdjOJ852KkWV"
      }
    },
    {
      "cell_type": "code",
      "source": [
        "import numpy as np\n",
        "def is_prime(n):\n",
        "  if n <=1:\n",
        "    return False\n",
        "  for i in range(2,int(n**0.5)+1):\n",
        "    if n%i==0:\n",
        "      return False\n",
        "  return True\n",
        "arr1= np.random.randint(1,1000, size=(10,10))\n",
        "prime_numbers=[num for num in arr1.flatten() if is_prime(num)]\n",
        "print(prime_numbers)"
      ],
      "metadata": {
        "colab": {
          "base_uri": "https://localhost:8080/"
        },
        "id": "DG03c7qIKxV_",
        "outputId": "237fa8c6-4ffc-4f4b-b72e-2a2b845ad481"
      },
      "execution_count": 15,
      "outputs": [
        {
          "output_type": "stream",
          "name": "stdout",
          "text": [
            "[np.int64(409), np.int64(941), np.int64(29), np.int64(61), np.int64(487), np.int64(23), np.int64(173), np.int64(443), np.int64(41), np.int64(479), np.int64(641), np.int64(683), np.int64(101), np.int64(229), np.int64(313), np.int64(499), np.int64(631), np.int64(263), np.int64(733), np.int64(379), np.int64(641)]\n"
          ]
        }
      ]
    },
    {
      "cell_type": "markdown",
      "source": [
        "**10. Create a NumPy array representing daily temperatures for a month. Calculate and display the weekly\n",
        "averages.**\n"
      ],
      "metadata": {
        "id": "K6LZVUbCMpsb"
      }
    },
    {
      "cell_type": "code",
      "source": [
        "import numpy as np\n",
        "temperatures= np.random.randint(20,35, size=30)\n",
        "num_full_weeks= len(temperatures)//7\n",
        "remaining_days= len(temperatures)%7\n",
        "weekly_temperatures=temperatures[:num_full_weeks*7].reshape(num_full_weeks,7)\n",
        "weekly_averages=np.mean(weekly_temperatures,axis=1)\n",
        "if remaining_days>0:\n",
        "  remaining_avg=np.mean(temperatures[num_full_weeks*7:])\n",
        "  print('average of remaining days:', remaining_avg)\n",
        "print('weekly averages:', weekly_averages)\n",
        "\n"
      ],
      "metadata": {
        "colab": {
          "base_uri": "https://localhost:8080/"
        },
        "id": "v5TAofoYMzxW",
        "outputId": "8d028c2a-539f-4688-a2ef-f5e306faf60f"
      },
      "execution_count": 18,
      "outputs": [
        {
          "output_type": "stream",
          "name": "stdout",
          "text": [
            "average of remaining days: 24.5\n",
            "weekly averages: [26.71428571 30.14285714 26.57142857 27.57142857]\n"
          ]
        }
      ]
    }
  ]
}