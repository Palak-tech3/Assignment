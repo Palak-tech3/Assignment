{
  "nbformat": 4,
  "nbformat_minor": 0,
  "metadata": {
    "colab": {
      "provenance": []
    },
    "kernelspec": {
      "name": "python3",
      "display_name": "Python 3"
    },
    "language_info": {
      "name": "python"
    }
  },
  "cells": [
    {
      "cell_type": "markdown",
      "source": [
        "**q1-Write a code to reverse a string.**"
      ],
      "metadata": {
        "id": "Rs7bKsTqIIAM"
      }
    },
    {
      "cell_type": "code",
      "source": [
        "a=input('enter a string-')\n",
        "b=a[::-1]\n",
        "print('reverse of string-',b)"
      ],
      "metadata": {
        "colab": {
          "base_uri": "https://localhost:8080/"
        },
        "id": "jvpwOV-yIYN-",
        "outputId": "e82a915c-0139-4887-85ef-fc18f73e9056"
      },
      "execution_count": null,
      "outputs": [
        {
          "output_type": "stream",
          "name": "stdout",
          "text": [
            "enter a string-pwskills\n",
            "reverse of string- sllikswp\n"
          ]
        }
      ]
    },
    {
      "cell_type": "markdown",
      "source": [
        "**q2- Write a code to count the number of vowels in a string.**"
      ],
      "metadata": {
        "id": "ksPKam_WJGMq"
      }
    },
    {
      "cell_type": "code",
      "source": [
        "a=input('enter a string:-')\n",
        "c=0\n",
        "for i in a:\n",
        "  if i in 'aeiou':\n",
        "    c=c+1\n",
        "print('number of vowels in string-',c)"
      ],
      "metadata": {
        "colab": {
          "base_uri": "https://localhost:8080/"
        },
        "id": "W8jlhjIEJT4l",
        "outputId": "3a5968d5-f83d-44d6-d70d-efb5ebabd5c7"
      },
      "execution_count": null,
      "outputs": [
        {
          "output_type": "stream",
          "name": "stdout",
          "text": [
            "enter a string:-data science pw skills\n",
            "number of vowels in string- 6\n"
          ]
        }
      ]
    },
    {
      "cell_type": "markdown",
      "source": [
        "**q3- Write a code to check if a given string is a palindrome or not.**\n"
      ],
      "metadata": {
        "id": "mHbTPyWkLIK4"
      }
    },
    {
      "cell_type": "code",
      "source": [
        "a=input('enter a string-')\n",
        "if a==a[::-1]:\n",
        "  print('string is a palindrome')\n",
        "else:\n",
        "  print('string is not a palindrome')\n"
      ],
      "metadata": {
        "colab": {
          "base_uri": "https://localhost:8080/"
        },
        "id": "ZTc4p0AJLjOM",
        "outputId": "15350fbd-b312-4d8e-b512-27fd2d10595b"
      },
      "execution_count": null,
      "outputs": [
        {
          "output_type": "stream",
          "name": "stdout",
          "text": [
            "enter a string-mom\n",
            "string is a palindrome\n"
          ]
        }
      ]
    },
    {
      "cell_type": "markdown",
      "source": [
        "**q4-Write a code to check if two given strings are anagrams of each other.**"
      ],
      "metadata": {
        "id": "bGDpwlVjMIxt"
      }
    },
    {
      "cell_type": "code",
      "source": [
        "a=input('enter first string:')\n",
        "b=input('enter second string:')\n",
        "if sorted(a)==sorted(b):\n",
        "  print('strings are anagrams')\n",
        "else:\n",
        "  print('strings are not anagrams')"
      ],
      "metadata": {
        "colab": {
          "base_uri": "https://localhost:8080/"
        },
        "id": "AuJZkK6PMUZy",
        "outputId": "b8fc512d-d367-4dd5-f1d6-6cdbac9c29a4"
      },
      "execution_count": null,
      "outputs": [
        {
          "output_type": "stream",
          "name": "stdout",
          "text": [
            "enter first string:throw\n",
            "enter second string:worth\n",
            "strings are anagrams\n"
          ]
        }
      ]
    },
    {
      "cell_type": "markdown",
      "source": [
        "**q-5-Write a code to find all occurrences of a given substring within another string**"
      ],
      "metadata": {
        "id": "wodvp8-IREGv"
      }
    },
    {
      "cell_type": "code",
      "source": [
        "a=input('enter a string:')\n",
        "b=input('enter a substring:')\n",
        "if b in a:\n",
        "  print('substring is present')\n",
        "else:\n",
        "  print('substring is not present')"
      ],
      "metadata": {
        "colab": {
          "base_uri": "https://localhost:8080/"
        },
        "id": "qm4YLYD_RSUD",
        "outputId": "35ce2323-447f-4dad-f85c-cdd763b097af"
      },
      "execution_count": null,
      "outputs": [
        {
          "output_type": "stream",
          "name": "stdout",
          "text": [
            "enter a string:artificial intelligence\n",
            "enter a substring:arti\n",
            "substring is present\n"
          ]
        }
      ]
    },
    {
      "cell_type": "markdown",
      "source": [
        "**q6-Write a code to perform basic string compression using the counts of repeated characters.**"
      ],
      "metadata": {
        "id": "OuU7HK7iT6bT"
      }
    },
    {
      "cell_type": "code",
      "source": [
        "a=input('enter a string:')\n",
        "b=''\n",
        "for i in a:\n",
        "  if i not in b:\n",
        "    b=b+i+str(a.count(i))\n",
        "    print(b)"
      ],
      "metadata": {
        "colab": {
          "base_uri": "https://localhost:8080/"
        },
        "id": "Qd9hxFbdWHkg",
        "outputId": "15658fa3-1702-487f-a423-3258609a813c"
      },
      "execution_count": null,
      "outputs": [
        {
          "output_type": "stream",
          "name": "stdout",
          "text": [
            "enter a string:together\n",
            "t2\n",
            "t2o1\n",
            "t2o1g1\n",
            "t2o1g1e2\n",
            "t2o1g1e2h1\n",
            "t2o1g1e2h1r1\n"
          ]
        }
      ]
    },
    {
      "cell_type": "markdown",
      "source": [
        "**q7-Write a code to determine if a string has all unique characters.**"
      ],
      "metadata": {
        "id": "aS3trqXrVFDb"
      }
    },
    {
      "cell_type": "code",
      "source": [
        "a=input('enter a string:')\n",
        "if len(a)==len(set(a)):\n",
        "  print('string has all unique characters')\n",
        "else:\n",
        "  print('string has duplicate characters')"
      ],
      "metadata": {
        "colab": {
          "base_uri": "https://localhost:8080/"
        },
        "id": "xX6keFgeVeEj",
        "outputId": "8495acfc-3022-4c8b-c4cb-652155e1faf5"
      },
      "execution_count": null,
      "outputs": [
        {
          "output_type": "stream",
          "name": "stdout",
          "text": [
            "enter a string:kite\n",
            "string has all unique characters\n"
          ]
        }
      ]
    },
    {
      "cell_type": "markdown",
      "source": [
        "**q8-Write a code to convert a given string to uppercase or lowercase.**\n"
      ],
      "metadata": {
        "id": "YpDgQIcoXSY-"
      }
    },
    {
      "cell_type": "code",
      "source": [
        "a= 'Pw Skills'\n",
        "b=a.upper()\n",
        "c=a.lower()\n",
        "print(b)\n",
        "print(c)\n"
      ],
      "metadata": {
        "colab": {
          "base_uri": "https://localhost:8080/"
        },
        "id": "p4n6sqAGXgEv",
        "outputId": "52575b10-917d-4dff-fd70-a3577d5304ea"
      },
      "execution_count": null,
      "outputs": [
        {
          "output_type": "stream",
          "name": "stdout",
          "text": [
            "PW SKILLS\n",
            "pw skills\n"
          ]
        }
      ]
    },
    {
      "cell_type": "markdown",
      "source": [
        "**q9-Write a code to count the number of words in a string.**"
      ],
      "metadata": {
        "id": "8Cm70tz4YN2I"
      }
    },
    {
      "cell_type": "code",
      "source": [
        "a= input('enter a string:')\n",
        "print('no of words:-', len(a))"
      ],
      "metadata": {
        "colab": {
          "base_uri": "https://localhost:8080/"
        },
        "id": "ZgwWze_OYrqy",
        "outputId": "a28d60de-8706-43af-a4bf-797b38ff5983"
      },
      "execution_count": null,
      "outputs": [
        {
          "output_type": "stream",
          "name": "stdout",
          "text": [
            "enter a string:technology\n",
            "no of words:- 10\n"
          ]
        }
      ]
    },
    {
      "cell_type": "markdown",
      "source": [
        "**q10-Write a code to concatenate two strings without using the + operator.**\n",
        "\n"
      ],
      "metadata": {
        "id": "IP0BABFXZStO"
      }
    },
    {
      "cell_type": "code",
      "source": [
        "a='pw'\n",
        "b='skills'\n",
        "c=a+b\n",
        "print(c)"
      ],
      "metadata": {
        "colab": {
          "base_uri": "https://localhost:8080/"
        },
        "id": "YWQNUtZfZu75",
        "outputId": "70bf3ef3-c038-462a-829b-152cd8d8db1a"
      },
      "execution_count": null,
      "outputs": [
        {
          "output_type": "stream",
          "name": "stdout",
          "text": [
            "pwskills\n"
          ]
        }
      ]
    },
    {
      "cell_type": "markdown",
      "source": [
        "**q-11- Write a code to remove all occurrences of a specific element from a list**"
      ],
      "metadata": {
        "id": "cacz2UcZbHdf"
      }
    },
    {
      "cell_type": "code",
      "source": [
        "a=['pw','skills','data','science']\n",
        "a.remove('data')\n",
        "print(a)"
      ],
      "metadata": {
        "colab": {
          "base_uri": "https://localhost:8080/"
        },
        "id": "5HI0PpXybbnM",
        "outputId": "c450624f-1b59-4b73-b524-be724a7c25b2"
      },
      "execution_count": null,
      "outputs": [
        {
          "output_type": "stream",
          "name": "stdout",
          "text": [
            "['pw', 'skills', 'science']\n"
          ]
        }
      ]
    },
    {
      "cell_type": "markdown",
      "source": [
        "**q-12-Implement a code to find the second largest number in a given list of integers.**"
      ],
      "metadata": {
        "id": "TFhi72LQb3vq"
      }
    },
    {
      "cell_type": "code",
      "source": [
        "a=[100,234,10000,43,67,5165]\n",
        "b= sorted(a)\n",
        "c=b[-2]\n",
        "print(c)"
      ],
      "metadata": {
        "colab": {
          "base_uri": "https://localhost:8080/"
        },
        "id": "ibzR79mUvdK5",
        "outputId": "0b82c8ca-ff5d-4e54-d1d2-4e33da451e5c"
      },
      "execution_count": null,
      "outputs": [
        {
          "output_type": "stream",
          "name": "stdout",
          "text": [
            "5165\n"
          ]
        }
      ]
    },
    {
      "cell_type": "markdown",
      "source": [
        "**q-13- Create a code to count the occurrences of each element in a list and return a dictionary with elements as\n",
        "keys and their counts as values.**"
      ],
      "metadata": {
        "id": "OSco6GTKwPHk"
      }
    },
    {
      "cell_type": "code",
      "source": [
        "a=['data','science','data','machine','learning']\n",
        "b={}\n",
        "for i in a:\n",
        "  b[i]=a.count(i)\n",
        "print(b)"
      ],
      "metadata": {
        "colab": {
          "base_uri": "https://localhost:8080/"
        },
        "id": "9-d1pvZ5wj3W",
        "outputId": "9fc96d94-c434-404e-cf3d-0005a45ee698"
      },
      "execution_count": null,
      "outputs": [
        {
          "output_type": "stream",
          "name": "stdout",
          "text": [
            "{'data': 2, 'science': 1, 'machine': 1, 'learning': 1}\n"
          ]
        }
      ]
    },
    {
      "cell_type": "markdown",
      "source": [
        "**q-14-Write a code to reverse a list in-place without using any built-in reverse functions.**"
      ],
      "metadata": {
        "id": "6wUHsaeUx6kf"
      }
    },
    {
      "cell_type": "code",
      "source": [
        "a=['cricket','badminton','tennis','basketball']\n",
        "b=a[::-1]\n",
        "print(b)"
      ],
      "metadata": {
        "colab": {
          "base_uri": "https://localhost:8080/"
        },
        "id": "roFcHdENyFOu",
        "outputId": "586f1cf7-efb8-4603-ae56-a9ad5b44f948"
      },
      "execution_count": null,
      "outputs": [
        {
          "output_type": "stream",
          "name": "stdout",
          "text": [
            "['basketball', 'tennis', 'badminton', 'cricket']\n"
          ]
        }
      ]
    },
    {
      "cell_type": "markdown",
      "source": [
        "**q-15-Implement a code to find and remove duplicates from a list while preserving the original order of\n",
        "elements.**"
      ],
      "metadata": {
        "id": "j9glauunyXvr"
      }
    },
    {
      "cell_type": "code",
      "source": [
        "a=['mumbai','lucknow','delhi','mumbai','bhopal','delhi']\n",
        "b=[]\n",
        "for i in a:\n",
        "  if i not in b:\n",
        "    b.append(i)\n",
        "print(b)"
      ],
      "metadata": {
        "colab": {
          "base_uri": "https://localhost:8080/"
        },
        "id": "RDvtvYS-yufT",
        "outputId": "58ac3318-cbf2-4707-8959-a4fcd1d64f92"
      },
      "execution_count": null,
      "outputs": [
        {
          "output_type": "stream",
          "name": "stdout",
          "text": [
            "['mumbai', 'lucknow', 'delhi', 'bhopal']\n"
          ]
        }
      ]
    },
    {
      "cell_type": "markdown",
      "source": [
        "**q-16-Create a code to check if a given list is sorted (either in ascending or descending order) or not.**"
      ],
      "metadata": {
        "id": "D97wgHl_1NSY"
      }
    },
    {
      "cell_type": "code",
      "source": [
        "a=[12,14,16,18,19]\n",
        "if a==sorted(a) or a==sorted(a,reverse=True):\n",
        "  print('list is sorted')\n",
        "else:\n",
        "  print('list is not sorted')"
      ],
      "metadata": {
        "colab": {
          "base_uri": "https://localhost:8080/"
        },
        "id": "Al_qp8DP1YHC",
        "outputId": "81559b23-71d6-40de-d7eb-33e8b5aecd4d"
      },
      "execution_count": null,
      "outputs": [
        {
          "output_type": "stream",
          "name": "stdout",
          "text": [
            "list is sorted\n"
          ]
        }
      ]
    },
    {
      "cell_type": "markdown",
      "source": [
        "**q-17-write a code to merge two sorted lists into a single sorted list.**\n"
      ],
      "metadata": {
        "id": "vRuhueg52QWL"
      }
    },
    {
      "cell_type": "code",
      "source": [
        "a=[2,3,1,4,5]\n",
        "b=[11,18,16,20]\n",
        "c=sorted(a)\n",
        "d=sorted(b)\n",
        "c.extend(d)\n",
        "print(c)"
      ],
      "metadata": {
        "colab": {
          "base_uri": "https://localhost:8080/"
        },
        "id": "w-T2NBIA2gOk",
        "outputId": "ea5e5827-f429-44a0-c85d-93204376f894"
      },
      "execution_count": null,
      "outputs": [
        {
          "output_type": "stream",
          "name": "stdout",
          "text": [
            "[1, 2, 3, 4, 5, 11, 16, 18, 20]\n"
          ]
        }
      ]
    },
    {
      "cell_type": "markdown",
      "source": [
        "**q-18- Implement a code to find the intersection of two given lists.**"
      ],
      "metadata": {
        "id": "_5FVAnVH3fLA"
      }
    },
    {
      "cell_type": "code",
      "source": [
        "a=['a','b','c','d']\n",
        "b=['f','g','a','h']\n",
        "c=[]\n",
        "for i in a:\n",
        "  if i in b:\n",
        "    c.append(i)\n",
        "    print(c)\n"
      ],
      "metadata": {
        "colab": {
          "base_uri": "https://localhost:8080/"
        },
        "id": "OQnCxwM23rv4",
        "outputId": "69a1b0f7-3e16-40af-a1c3-622f29d3f573"
      },
      "execution_count": null,
      "outputs": [
        {
          "output_type": "stream",
          "name": "stdout",
          "text": [
            "['a']\n"
          ]
        }
      ]
    },
    {
      "cell_type": "markdown",
      "source": [
        "**q-19-Create a code to find the union of two lists without duplicates.**"
      ],
      "metadata": {
        "id": "MJYXiQRI5VfU"
      }
    },
    {
      "cell_type": "code",
      "source": [
        "a=['a','b','c','d']\n",
        "b=['f','g','a','h']\n",
        "c=[]\n",
        "for i in a:\n",
        "  if i not in c:\n",
        "    c.append(i)\n",
        "for j in b:\n",
        "  if j not in c:\n",
        "    c.append(j)\n",
        "print(c)\n",
        "\n"
      ],
      "metadata": {
        "colab": {
          "base_uri": "https://localhost:8080/"
        },
        "id": "aDiXBa-l5o6d",
        "outputId": "a4badf28-310f-40d6-85be-2b572f913c28"
      },
      "execution_count": null,
      "outputs": [
        {
          "output_type": "stream",
          "name": "stdout",
          "text": [
            "['a', 'b', 'c', 'd', 'f', 'g', 'h']\n"
          ]
        }
      ]
    },
    {
      "cell_type": "markdown",
      "source": [
        "**q-20- Write a code to shuffle a given list randomly without using any built-in shuffle functions.**"
      ],
      "metadata": {
        "id": "MDmKGS3t6iro"
      }
    },
    {
      "cell_type": "code",
      "source": [
        "a=['cricket','badminton','tennis','basketball']\n",
        "a[2]='cricket'\n",
        "a[1]='basketball'\n",
        "a[0]='tennis'\n",
        "a[3]='badminton'\n",
        "print(a)"
      ],
      "metadata": {
        "colab": {
          "base_uri": "https://localhost:8080/"
        },
        "id": "4Zd-b6Fs8ALP",
        "outputId": "3e920efa-2333-4213-b0da-6ae42cdd1779"
      },
      "execution_count": null,
      "outputs": [
        {
          "output_type": "stream",
          "name": "stdout",
          "text": [
            "['tennis', 'basketball', 'cricket', 'badminton']\n"
          ]
        }
      ]
    },
    {
      "cell_type": "markdown",
      "source": [
        "**q-21-Write a code that takes two tuples as input and returns a new tuple containing elements that are\n",
        "common to both input tuples.**\n"
      ],
      "metadata": {
        "id": "t6yaa3zk80HK"
      }
    },
    {
      "cell_type": "code",
      "source": [
        "a=tuple(input('enter a tuple:'))\n",
        "b=tuple(input('enter second tuple:'))\n",
        "c=[]\n",
        "for i in a:\n",
        "  if i in b:\n",
        "    c.append(i)\n",
        "    d=tuple(c)\n",
        "print(d)"
      ],
      "metadata": {
        "colab": {
          "base_uri": "https://localhost:8080/"
        },
        "id": "fCyzAM8t8_Gh",
        "outputId": "ccf5cf6d-d60b-450a-d7f5-8dac2279d4ef"
      },
      "execution_count": null,
      "outputs": [
        {
          "output_type": "stream",
          "name": "stdout",
          "text": [
            "enter a tuple:1 2 3 4\n",
            "enter second tuple:3 4 6 7\n",
            "(' ', ' ', '3', ' ', '4')\n"
          ]
        }
      ]
    },
    {
      "cell_type": "markdown",
      "source": [
        "**q22-Create a code that prompts the user to enter two sets of integers separated by commas. Then, print the\n",
        "intersection of these two sets.**"
      ],
      "metadata": {
        "id": "JrNzkm3H-usz"
      }
    },
    {
      "cell_type": "code",
      "source": [
        "a=set(input('enter set 1:'))\n",
        "b=set(input('enter set 2:'))\n",
        "print(a&b)"
      ],
      "metadata": {
        "colab": {
          "base_uri": "https://localhost:8080/"
        },
        "id": "nE1Qqnte-9Qx",
        "outputId": "9c919a86-be8b-4898-a941-3d9c34ec9378"
      },
      "execution_count": null,
      "outputs": [
        {
          "output_type": "stream",
          "name": "stdout",
          "text": [
            "enter set 1:1,2,3\n",
            "enter set 2:3,4,5\n",
            "{',', '3'}\n"
          ]
        }
      ]
    },
    {
      "cell_type": "markdown",
      "source": [
        "**q23-Write a code to concatenate two tuples. The function should take two tuples as input and return a new\n",
        "tuple containing elements from both input tuples.**"
      ],
      "metadata": {
        "id": "EuXiCDld_kjz"
      }
    },
    {
      "cell_type": "code",
      "source": [
        "a=tuple(input('enter first tuple:'))\n",
        "b=tuple(input('enter second tuple:'))\n",
        "c=a+b\n",
        "print(tuple(c))"
      ],
      "metadata": {
        "colab": {
          "base_uri": "https://localhost:8080/"
        },
        "id": "tcAYX1Dw_wvd",
        "outputId": "e8396038-cb90-4b90-92ff-61c14c159d48"
      },
      "execution_count": null,
      "outputs": [
        {
          "output_type": "stream",
          "name": "stdout",
          "text": [
            "enter first tuple:abc\n",
            "enter second tuple:123\n",
            "('a', 'b', 'c', '1', '2', '3')\n"
          ]
        }
      ]
    },
    {
      "cell_type": "markdown",
      "source": [
        "**q-24-Develop a code that prompts the user to input two sets of strings. Then, print the elements that are\n",
        "present in the first set but not in the second set.**\n"
      ],
      "metadata": {
        "id": "Hv_E1CFsCYaH"
      }
    },
    {
      "cell_type": "code",
      "source": [
        "a=set(input('enter first set:'))\n",
        "b=set(input('enter second set:'))\n",
        "c=[]\n",
        "for i in a:\n",
        "  if i not in b:\n",
        "    c.append(i)\n",
        "print(set(c))"
      ],
      "metadata": {
        "colab": {
          "base_uri": "https://localhost:8080/"
        },
        "id": "ZSToHXJ9CyqA",
        "outputId": "7afd4241-7635-4ce2-ad9c-903c4dfa4518"
      },
      "execution_count": null,
      "outputs": [
        {
          "output_type": "stream",
          "name": "stdout",
          "text": [
            "enter first set:'a','b','c'\n",
            "enter second set:'c','d','f'\n",
            "{'b', 'a'}\n"
          ]
        }
      ]
    },
    {
      "cell_type": "markdown",
      "source": [
        "****"
      ],
      "metadata": {
        "id": "SL4MyHJQEAqe"
      }
    },
    {
      "cell_type": "markdown",
      "source": [
        "**q-25- Create a code that takes a tuple and two integers as input. The function should return a new tuple\n",
        "containing elements from the original tuple within the specified range of indices.**"
      ],
      "metadata": {
        "id": "24FZ-phvGenZ"
      }
    },
    {
      "cell_type": "code",
      "source": [
        "a=tuple(input('enter a tuple:'))\n",
        "b=int(input('enter starting index:'))\n",
        "c=int(input('enter ending index:'))\n",
        "d=a[b:c]\n",
        "print(d)"
      ],
      "metadata": {
        "colab": {
          "base_uri": "https://localhost:8080/"
        },
        "id": "jW_JzGLhLomP",
        "outputId": "b535b2d1-a440-4a77-d7bf-74e08fb55c93"
      },
      "execution_count": 3,
      "outputs": [
        {
          "output_type": "stream",
          "name": "stdout",
          "text": [
            "enter a tuple:pwskills\n",
            "enter starting index:2\n",
            "enter ending index:6\n",
            "('s', 'k', 'i', 'l')\n"
          ]
        }
      ]
    },
    {
      "cell_type": "markdown",
      "source": [
        "**q-26- Write a code that prompts the user to input two sets of characters. Then, print the union of these two sets**"
      ],
      "metadata": {
        "id": "c8khlaY4NJsw"
      }
    },
    {
      "cell_type": "code",
      "source": [
        "a= set(input('enter first set:'))\n",
        "b= set(input('enter second set:'))\n",
        "print(a|b)"
      ],
      "metadata": {
        "colab": {
          "base_uri": "https://localhost:8080/"
        },
        "id": "tQtflt6xNTld",
        "outputId": "8b34fdfd-d7ec-4700-ced6-1993822eef9e"
      },
      "execution_count": 6,
      "outputs": [
        {
          "output_type": "stream",
          "name": "stdout",
          "text": [
            "enter first set:1 2 3 4\n",
            "enter second set:1 5  6 7\n",
            "{'7', '3', '6', '4', '1', '5', '2', ' '}\n"
          ]
        }
      ]
    },
    {
      "cell_type": "markdown",
      "source": [
        "**q-27- Develop a code that takes a tuple of integers as input. The function should return the maximum and\n",
        "minimum values from the tuple using tuple unpacking.**\n"
      ],
      "metadata": {
        "id": "0XEP1KnCOO0_"
      }
    },
    {
      "cell_type": "code",
      "source": [
        "a= []\n",
        "b= int(input('enter no of elements:'))\n",
        "for i in range(b):\n",
        "  c=int(input('enter elements:'))\n",
        "  a.append(c)\n",
        "  d=tuple(a)\n",
        "print('maximum is ', max(d))\n",
        "print('minimum is' ,min(d))"
      ],
      "metadata": {
        "colab": {
          "base_uri": "https://localhost:8080/"
        },
        "id": "0s8mvPLoOaAD",
        "outputId": "19682877-82f1-419d-e3e6-031cac7d10b6"
      },
      "execution_count": 15,
      "outputs": [
        {
          "output_type": "stream",
          "name": "stdout",
          "text": [
            "enter no of elements:4\n",
            "enter elements:56\n",
            "enter elements:78\n",
            "enter elements:32\n",
            "enter elements:89\n",
            "maximum is  89\n",
            "minimum is 32\n"
          ]
        }
      ]
    },
    {
      "cell_type": "markdown",
      "source": [
        "**q-28-Create a code that defines two sets of integers. Then, print the union, intersection, and difference of these\n",
        "two sets.**"
      ],
      "metadata": {
        "id": "OVSCr_gEUyti"
      }
    },
    {
      "cell_type": "code",
      "source": [
        "a={1,2,3,4,5}\n",
        "b={4,5,6,7,8}\n",
        "print(a|b)\n",
        "print(a&b)\n",
        "print(a-b)"
      ],
      "metadata": {
        "colab": {
          "base_uri": "https://localhost:8080/"
        },
        "id": "sLfFLsVsVC-6",
        "outputId": "4aa41aeb-2de2-40d7-d2cd-16e1d7b3a14e"
      },
      "execution_count": 17,
      "outputs": [
        {
          "output_type": "stream",
          "name": "stdout",
          "text": [
            "{1, 2, 3, 4, 5, 6, 7, 8}\n",
            "{4, 5}\n",
            "{1, 2, 3}\n"
          ]
        }
      ]
    },
    {
      "cell_type": "markdown",
      "source": [
        "**q-29-Write a code that takes a tuple and an element as input. The function should return the count of\n",
        "occurrences of the given element in the tuple.**"
      ],
      "metadata": {
        "id": "1cyS7rfhVvtz"
      }
    },
    {
      "cell_type": "code",
      "source": [
        "a= tuple(input('enter a tuple:'))\n",
        "b= input('enter element:')\n",
        "print(a.count(b))"
      ],
      "metadata": {
        "colab": {
          "base_uri": "https://localhost:8080/"
        },
        "id": "uiyoFV_dV7O5",
        "outputId": "f52543a7-a70a-49f3-92d2-4ab79f1934ae"
      },
      "execution_count": 26,
      "outputs": [
        {
          "output_type": "stream",
          "name": "stdout",
          "text": [
            "enter a tuple:pineapple\n",
            "enter element:p\n",
            "3\n"
          ]
        }
      ]
    },
    {
      "cell_type": "markdown",
      "source": [
        "**q-30-Develop a code that prompts the user to input two sets of strings. Then, print the symmetric difference of\n",
        "these two sets.**"
      ],
      "metadata": {
        "id": "fzRtFD7GYT4S"
      }
    },
    {
      "cell_type": "code",
      "source": [
        "s1=set()\n",
        "n= int(input('enter no of elements:'))\n",
        "for i in range(n):\n",
        "  a=input('enter elements:')\n",
        "  s1.add(a)\n",
        "  print(s1)\n",
        "s2=set()\n",
        "n= int(input('enter no of elements:'))\n",
        "for i in range(n):\n",
        "  a=input('enter elements:')\n",
        "  s2.add(a)\n",
        "  print(s2)\n",
        "  print(s1^s2)\n"
      ],
      "metadata": {
        "colab": {
          "base_uri": "https://localhost:8080/"
        },
        "id": "NOM55A0CYloq",
        "outputId": "ce303b4b-e5c2-4861-a088-d4860d47080b"
      },
      "execution_count": 31,
      "outputs": [
        {
          "output_type": "stream",
          "name": "stdout",
          "text": [
            "enter no of elements:2\n",
            "enter elements:pw\n",
            "{'pw'}\n",
            "enter elements:skills\n",
            "{'skills', 'pw'}\n",
            "enter no of elements:3\n",
            "enter elements:skills\n",
            "{'skills'}\n",
            "{'pw'}\n",
            "enter elements:data\n",
            "{'skills', 'data'}\n",
            "{'data', 'pw'}\n",
            "enter elements:science\n",
            "{'skills', 'data', 'science'}\n",
            "{'data', 'science', 'pw'}\n"
          ]
        }
      ]
    },
    {
      "cell_type": "markdown",
      "source": [
        "**q31- Write a code that takes a list of words as input and returns a dictionary where the keys are unique words\n",
        "and the values are the frequencies of those words in the input list.**\n"
      ],
      "metadata": {
        "id": "Hhz9ZX2CaBmY"
      }
    },
    {
      "cell_type": "code",
      "source": [
        "a=[]\n",
        "n= int(input('enter no of elements:'))\n",
        "for i in range(n):\n",
        "  b=input('enter elements:')\n",
        "  a.append(b)\n",
        "print(a)\n",
        "c={}\n",
        "for j in a:\n",
        "  c[j]=a.count(j)\n",
        "print(c)"
      ],
      "metadata": {
        "colab": {
          "base_uri": "https://localhost:8080/"
        },
        "id": "9jwURsFOaiT0",
        "outputId": "eab094e7-56ee-4a0e-b981-1729fd920fd2"
      },
      "execution_count": 37,
      "outputs": [
        {
          "output_type": "stream",
          "name": "stdout",
          "text": [
            "enter no of elements:5\n",
            "enter elements:book\n",
            "enter elements:pencil\n",
            "enter elements:copy\n",
            "enter elements:book\n",
            "enter elements:pencil\n",
            "['book', 'pencil', 'copy', 'book', 'pencil']\n",
            "{'book': 2, 'pencil': 2, 'copy': 1}\n"
          ]
        }
      ]
    },
    {
      "cell_type": "markdown",
      "source": [
        "**q32-Write a code that takes two dictionaries as input and merges them into a single dictionary. If there are\n",
        "common keys, the values should be added together.**"
      ],
      "metadata": {
        "id": "OLPJcDqUb9Ff"
      }
    },
    {
      "cell_type": "code",
      "source": [
        "a={}\n",
        "n= int(input('enter no of elements:'))\n",
        "for i in range(n):\n",
        "  b=input('enter key:')\n",
        "  c=int(input('enter value:'))\n",
        "  a[b]=c\n",
        "print(a)\n",
        "d={}\n",
        "n= int(input('enter no of elements:'))\n",
        "for i in range(n):\n",
        "  b=input('enter key:')\n",
        "  c=int(input('enter value:'))\n",
        "  d[b]=c\n",
        "print(d)\n",
        "a.update(d)\n",
        "print(a)"
      ],
      "metadata": {
        "colab": {
          "base_uri": "https://localhost:8080/"
        },
        "id": "0k-7IY8mcLjW",
        "outputId": "7073e677-7ae6-4739-ad7d-679387b36417"
      },
      "execution_count": 40,
      "outputs": [
        {
          "output_type": "stream",
          "name": "stdout",
          "text": [
            "enter no of elements:3\n",
            "enter key:pw\n",
            "enter value:1\n",
            "enter key:skills\n",
            "enter value:2\n",
            "enter key:data\n",
            "enter value:3\n",
            "{'pw': 1, 'skills': 2, 'data': 3}\n",
            "enter no of elements:3\n",
            "enter key:science\n",
            "enter value:4\n",
            "enter key:data\n",
            "enter value:5\n",
            "enter key:technology\n",
            "enter value:6\n",
            "{'science': 4, 'data': 5, 'technology': 6}\n",
            "{'pw': 1, 'skills': 2, 'data': 5, 'science': 4, 'technology': 6}\n"
          ]
        }
      ]
    },
    {
      "cell_type": "markdown",
      "source": [
        "**q-33-Write a code to access a value in a nested dictionary. The function should take the dictionary and a list of\n",
        "keys as input, and return the corresponding value. If any of the keys do not exist in the dictionary, the\n",
        "function should return None.**\n",
        "\n",
        "\n",
        "could not understand question."
      ],
      "metadata": {
        "id": "VtGbW-Mddy8B"
      }
    },
    {
      "cell_type": "markdown",
      "source": [
        "**q-34-Write a code that takes a dictionary as input and returns a sorted version of it based on the values. You\n",
        "can choose whether to sort in ascending or descending order.**"
      ],
      "metadata": {
        "id": "on0Hd5_tifZb"
      }
    },
    {
      "cell_type": "code",
      "source": [
        "d={}\n",
        "n= int(input('enter no of elements:'))\n",
        "for i in range(n):\n",
        "  b=input('enter key:')\n",
        "  c=int(input('enter value:'))\n",
        "  d[b]=c\n",
        "print(sorted(d.values()))\n"
      ],
      "metadata": {
        "colab": {
          "base_uri": "https://localhost:8080/"
        },
        "id": "dm3YZGZjizHT",
        "outputId": "dc63b4e1-b7a3-43bb-be7c-ca38a4165ebb"
      },
      "execution_count": 42,
      "outputs": [
        {
          "output_type": "stream",
          "name": "stdout",
          "text": [
            "enter no of elements:4\n",
            "enter key:a\n",
            "enter value:2\n",
            "enter key:b\n",
            "enter value:6\n",
            "enter key:c\n",
            "enter value:9\n",
            "enter key:d\n",
            "enter value:8\n",
            "[2, 6, 8, 9]\n"
          ]
        }
      ]
    },
    {
      "cell_type": "markdown",
      "source": [
        "**q-35-Write a code that inverts a dictionary, swapping keys and values. Ensure that the inverted dictionary\n",
        "correctly handles cases where multiple keys have the same value by storing the keys as a list in the\n",
        "inverted dictionary.**\n",
        "\n",
        "could not understand."
      ],
      "metadata": {
        "id": "db0qWgwwkXxe"
      }
    }
  ]
}