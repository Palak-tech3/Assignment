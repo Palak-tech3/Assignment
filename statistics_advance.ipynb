{
  "nbformat": 4,
  "nbformat_minor": 0,
  "metadata": {
    "colab": {
      "provenance": []
    },
    "kernelspec": {
      "name": "python3",
      "display_name": "Python 3"
    },
    "language_info": {
      "name": "python"
    }
  },
  "cells": [
    {
      "cell_type": "markdown",
      "source": [
        "**q1- Explain the different types of data (qualitative and quantitative) and provide examples of each. Discuss\n",
        "nominal, ordinal, interval, and ratio scales.**\n",
        "\n",
        "\n",
        "**Ans:-**Different types of data are:\n",
        "\n",
        "a)QUALITATIVE DATA:-it is also called categorical data.This consists of data that are not represented in numbers. eg- height .it is of two types.\n",
        "\n",
        "       1)Nominal-this data classifies variable without order or ranking.\n",
        "       2)Ordinal- this data classifies variable with order or ranking.\n",
        "\n",
        "\n",
        "b)QUANTITATIVE DATA:-This consists of data that are represented by numbers. eg:-rank. it is of two types.\n",
        "\n",
        "       1)discrete- data which are in whole number\n",
        "       2)continous- any data in range or real number."
      ],
      "metadata": {
        "id": "95U1B-dawYvl"
      }
    },
    {
      "cell_type": "markdown",
      "source": [
        "**2. What are the measures of central tendency, and when should you use each? Discuss the mean, median,\n",
        "and mode with examples and situations where each is appropriate.**\n",
        "\n",
        "**ans:-** Measure of central tendency refers to the measure used to determine the centre of distribution of data.\n",
        "\n",
        "the three measure of central tenedency are:\n",
        "\n",
        "1)Mean:- it is the average or arithmetic mid value of data.\n",
        "\n",
        "eg:-"
      ],
      "metadata": {
        "id": "7JPK1AYlyCM1"
      }
    },
    {
      "cell_type": "code",
      "source": [
        "import numpy as np\n",
        "a=[1,2,3,4,5]\n",
        "np.mean(a)"
      ],
      "metadata": {
        "colab": {
          "base_uri": "https://localhost:8080/"
        },
        "id": "Nh_6Rgu8zLo5",
        "outputId": "02d402f1-7c74-4084-e411-79e0dcee0223"
      },
      "execution_count": 1,
      "outputs": [
        {
          "output_type": "execute_result",
          "data": {
            "text/plain": [
              "3.0"
            ]
          },
          "metadata": {},
          "execution_count": 1
        }
      ]
    },
    {
      "cell_type": "markdown",
      "source": [
        "Mean is used when no outlier is present in the given data.\n",
        "\n",
        "2)Median:-median is the physical mid point or value of the data.\n",
        "\n",
        "eg:-"
      ],
      "metadata": {
        "id": "SW1-dBQkzcul"
      }
    },
    {
      "cell_type": "code",
      "source": [
        "import numpy as np\n",
        "a=[1,2,3,45]\n",
        "np.median(a)"
      ],
      "metadata": {
        "colab": {
          "base_uri": "https://localhost:8080/"
        },
        "id": "rJRJWnXhzxvT",
        "outputId": "927e3d41-2580-474b-f797-00c281ed6f94"
      },
      "execution_count": 2,
      "outputs": [
        {
          "output_type": "execute_result",
          "data": {
            "text/plain": [
              "2.5"
            ]
          },
          "metadata": {},
          "execution_count": 2
        }
      ]
    },
    {
      "cell_type": "markdown",
      "source": [
        "Median is suitable when the data is small or when the data contains outliers as median is not affected by outliers.\n",
        "\n",
        "3)Mode:- mode is the maximum frequency of the data.\n",
        "\n",
        "eg:-"
      ],
      "metadata": {
        "id": "e-GbemYmz7Ll"
      }
    },
    {
      "cell_type": "code",
      "source": [
        "from scipy import stats\n",
        "b=[1,1,1,2,2,2,2,2,2,2,3,3,4,5,6,6]\n",
        "stats.mode(b)"
      ],
      "metadata": {
        "colab": {
          "base_uri": "https://localhost:8080/"
        },
        "id": "A0L7y52B0Szc",
        "outputId": "b9050d01-7165-4c23-8a51-7da51e63d862"
      },
      "execution_count": 3,
      "outputs": [
        {
          "output_type": "execute_result",
          "data": {
            "text/plain": [
              "ModeResult(mode=2, count=7)"
            ]
          },
          "metadata": {},
          "execution_count": 3
        }
      ]
    },
    {
      "cell_type": "markdown",
      "source": [
        "Mode is suitable for specifically categorical data."
      ],
      "metadata": {
        "id": "B2Rfo19H0gnS"
      }
    },
    {
      "cell_type": "markdown",
      "source": [
        "**3. Explain the concept of dispersion. How do variance and standard deviation measure the spread of data?**\n",
        "\n",
        "**ans-**Dispersion typically means how the datasets are spread out in relation to their mean. High dispersion idicates that data are widely spreadout whereas low dispersion indicates that data are closely spread out.\n",
        "\n",
        "VARIANCE:- It is the average of the squared difference from the mean. it talks about spread in overall data.\n",
        "\n",
        "STANDARD DEVIATION:-It is a measure of how spread out the numbers are with respect to their mean.\n",
        "standard deviation is the root of variance."
      ],
      "metadata": {
        "id": "W0IQlj9q0oe9"
      }
    },
    {
      "cell_type": "markdown",
      "source": [
        "**q-4:- What is a box plot, and what can it tell you about the distribution of data?**\n",
        "\n",
        "**Ans:-** Box plot or whisker plot is a visual representation of data distribution that uses a box to show interquatile range where the middle 50% of the data lies and lines extending to the minimum and maximum values , aloowing you to quickly see the spread of the data, central tendency and outlires within a dataset."
      ],
      "metadata": {
        "id": "07IqrxY82wyk"
      }
    },
    {
      "cell_type": "markdown",
      "source": [
        "**5. Discuss the role of random sampling in making inferences about populations.**\n",
        "\n",
        "**ans:-**Random sampling plays a crucial role in making inference about population by ensuring that a selected sample accurately represents the characteristic of the larger population.\n",
        "In random sampling every mamber of the population has as equal chance of being selected in the sample."
      ],
      "metadata": {
        "id": "yq_R2gaF497d"
      }
    },
    {
      "cell_type": "markdown",
      "source": [
        "**q6: Explain the concept of skewness and its types. How does skewness affect the interpretation of data?**\n",
        "\n",
        "**ANS:-**skewness means inclined to some side. It refers to the unevenness in a data distribution indicating whether the data is clustered more towards one side pf the mean creating a 'tail' on the oppsite side. Two types of skewness are:-\n",
        "\n",
        "1) Positive skewness:- In this, most of the data lie on the right side of the distribution.\n",
        "\n",
        "2) negative skewness:- most of the data lie on the left side of the data.\n",
        "\n"
      ],
      "metadata": {
        "id": "0EGa6Iac5xZB"
      }
    },
    {
      "cell_type": "markdown",
      "source": [
        "**7. What is the interquartile range (IQR), and how is it used to detect outliers?**\n",
        "\n",
        "ans:- Interquartile range (IQR) is a statistical measure that represents the spread of the middle 50% of the data set , calculated by subtracting the first quartile(Q1) from the third quartile(Q3). In IQR any data point below lower fence or above upper fence is considered an outliers."
      ],
      "metadata": {
        "id": "-IyvDgXk88t_"
      }
    },
    {
      "cell_type": "markdown",
      "source": [
        "**q8:-. Discuss the conditions under which the binomial distribution is used.**\n",
        "\n",
        "**ans:-**the conditions under which the binomial distribution is used are:-\n",
        "\n",
        "a) FIXED NUMBERS OF TRIAL:- there is a set number of trials that cannot be changed during the analysis.\n",
        "\n",
        "b)TWO POSSIBLE OUTCOMES:- each trial has only two possible outcomes such as success or failure.\n",
        "\n",
        "c) CONSTANT PROBABILITY OF SUCCESS:- the probability of success should be same for each trial.\n",
        "\n",
        "d) INDEPENDENT TRIAL:- the outcome of one trial does not affect the outcome of any other trial.\n"
      ],
      "metadata": {
        "id": "MqXl4qOd-e4s"
      }
    },
    {
      "cell_type": "markdown",
      "source": [
        "**q9:-9. Explain the properties of the normal distribution and the empirical rule (68-95-99.7 rule).**\n",
        "\n",
        "**ans:-**Properties of normal disribution is:-\n",
        "\n",
        "a) it is generally Symmetrical about mean.\n",
        "\n",
        "b)in normal distribution, mean , median and mode are equal.\n",
        "\n",
        "c) there is no skewness in normal distribution.\n",
        "\n",
        "\n",
        "Empirical rule or three sigma rule states that 68% of data of the entire distribution lie within the first standard deviation from mean. 95% of the data of the entire distribution lies within the second standard deviation from th e mean. 99.7% of the data of data of the entire distribution lies within the third standard deviation from the mean.\n",
        "\n"
      ],
      "metadata": {
        "id": "xl4md4Kc_koU"
      }
    },
    {
      "cell_type": "markdown",
      "source": [
        "**10. Provide a real-life example of a Poisson process and calculate the probability for a specific event.**\n",
        "\n",
        "**ans:-** Real life example of a poisson distribution is the number of phone calls received by a customer care per hour where the average call rate is known and each call happens independently of the other.\n",
        "\n",
        "calculating the probability of receiving exactly 2 calls in an hour , if the average call rate us 3 calls per hour.\n",
        "\n",
        "p(x=2)= (2.718^3*3^2)/2!= 0.2225"
      ],
      "metadata": {
        "id": "TzIwdl5xA2px"
      }
    },
    {
      "cell_type": "markdown",
      "source": [
        "**11. Explain what a random variable is and differentiate between discrete and continuous random variables.**\n",
        "\n",
        "**ans:-** A random variable is a set of possible values from a random experiment.\n",
        "\n",
        "two types of random variables are:\n",
        "\n",
        "1)discrete random variable:- It ia a variable that can only take a finite or countable number of values.\n",
        "\n",
        "2) continuous random variable:- it is a variable that can take on an infinite number of possible values."
      ],
      "metadata": {
        "id": "vg-gqXr9DEXW"
      }
    },
    {
      "cell_type": "markdown",
      "source": [
        "**12. Provide an example dataset, calculate both covariance and correlation, and interpret the results.**\n",
        "\n",
        "**Ans:-** Considering a dataset:\n",
        "\n"
      ],
      "metadata": {
        "id": "KZ4FIQqxEH4Y"
      }
    },
    {
      "cell_type": "code",
      "source": [
        "import pandas as pd\n",
        "a=[2,4,6,8,10]\n",
        "b=[60,70,80,90,100]\n",
        "df=pd.DataFrame({'x':a,'y':b})\n",
        "df"
      ],
      "metadata": {
        "colab": {
          "base_uri": "https://localhost:8080/",
          "height": 206
        },
        "id": "kQvYuRwCEx5P",
        "outputId": "90c63d28-4989-469b-f152-4ff5b939de0c"
      },
      "execution_count": 5,
      "outputs": [
        {
          "output_type": "execute_result",
          "data": {
            "text/plain": [
              "    x    y\n",
              "0   2   60\n",
              "1   4   70\n",
              "2   6   80\n",
              "3   8   90\n",
              "4  10  100"
            ],
            "text/html": [
              "\n",
              "  <div id=\"df-2ed1b041-6c34-4581-a16f-8c8c538baeff\" class=\"colab-df-container\">\n",
              "    <div>\n",
              "<style scoped>\n",
              "    .dataframe tbody tr th:only-of-type {\n",
              "        vertical-align: middle;\n",
              "    }\n",
              "\n",
              "    .dataframe tbody tr th {\n",
              "        vertical-align: top;\n",
              "    }\n",
              "\n",
              "    .dataframe thead th {\n",
              "        text-align: right;\n",
              "    }\n",
              "</style>\n",
              "<table border=\"1\" class=\"dataframe\">\n",
              "  <thead>\n",
              "    <tr style=\"text-align: right;\">\n",
              "      <th></th>\n",
              "      <th>x</th>\n",
              "      <th>y</th>\n",
              "    </tr>\n",
              "  </thead>\n",
              "  <tbody>\n",
              "    <tr>\n",
              "      <th>0</th>\n",
              "      <td>2</td>\n",
              "      <td>60</td>\n",
              "    </tr>\n",
              "    <tr>\n",
              "      <th>1</th>\n",
              "      <td>4</td>\n",
              "      <td>70</td>\n",
              "    </tr>\n",
              "    <tr>\n",
              "      <th>2</th>\n",
              "      <td>6</td>\n",
              "      <td>80</td>\n",
              "    </tr>\n",
              "    <tr>\n",
              "      <th>3</th>\n",
              "      <td>8</td>\n",
              "      <td>90</td>\n",
              "    </tr>\n",
              "    <tr>\n",
              "      <th>4</th>\n",
              "      <td>10</td>\n",
              "      <td>100</td>\n",
              "    </tr>\n",
              "  </tbody>\n",
              "</table>\n",
              "</div>\n",
              "    <div class=\"colab-df-buttons\">\n",
              "\n",
              "  <div class=\"colab-df-container\">\n",
              "    <button class=\"colab-df-convert\" onclick=\"convertToInteractive('df-2ed1b041-6c34-4581-a16f-8c8c538baeff')\"\n",
              "            title=\"Convert this dataframe to an interactive table.\"\n",
              "            style=\"display:none;\">\n",
              "\n",
              "  <svg xmlns=\"http://www.w3.org/2000/svg\" height=\"24px\" viewBox=\"0 -960 960 960\">\n",
              "    <path d=\"M120-120v-720h720v720H120Zm60-500h600v-160H180v160Zm220 220h160v-160H400v160Zm0 220h160v-160H400v160ZM180-400h160v-160H180v160Zm440 0h160v-160H620v160ZM180-180h160v-160H180v160Zm440 0h160v-160H620v160Z\"/>\n",
              "  </svg>\n",
              "    </button>\n",
              "\n",
              "  <style>\n",
              "    .colab-df-container {\n",
              "      display:flex;\n",
              "      gap: 12px;\n",
              "    }\n",
              "\n",
              "    .colab-df-convert {\n",
              "      background-color: #E8F0FE;\n",
              "      border: none;\n",
              "      border-radius: 50%;\n",
              "      cursor: pointer;\n",
              "      display: none;\n",
              "      fill: #1967D2;\n",
              "      height: 32px;\n",
              "      padding: 0 0 0 0;\n",
              "      width: 32px;\n",
              "    }\n",
              "\n",
              "    .colab-df-convert:hover {\n",
              "      background-color: #E2EBFA;\n",
              "      box-shadow: 0px 1px 2px rgba(60, 64, 67, 0.3), 0px 1px 3px 1px rgba(60, 64, 67, 0.15);\n",
              "      fill: #174EA6;\n",
              "    }\n",
              "\n",
              "    .colab-df-buttons div {\n",
              "      margin-bottom: 4px;\n",
              "    }\n",
              "\n",
              "    [theme=dark] .colab-df-convert {\n",
              "      background-color: #3B4455;\n",
              "      fill: #D2E3FC;\n",
              "    }\n",
              "\n",
              "    [theme=dark] .colab-df-convert:hover {\n",
              "      background-color: #434B5C;\n",
              "      box-shadow: 0px 1px 3px 1px rgba(0, 0, 0, 0.15);\n",
              "      filter: drop-shadow(0px 1px 2px rgba(0, 0, 0, 0.3));\n",
              "      fill: #FFFFFF;\n",
              "    }\n",
              "  </style>\n",
              "\n",
              "    <script>\n",
              "      const buttonEl =\n",
              "        document.querySelector('#df-2ed1b041-6c34-4581-a16f-8c8c538baeff button.colab-df-convert');\n",
              "      buttonEl.style.display =\n",
              "        google.colab.kernel.accessAllowed ? 'block' : 'none';\n",
              "\n",
              "      async function convertToInteractive(key) {\n",
              "        const element = document.querySelector('#df-2ed1b041-6c34-4581-a16f-8c8c538baeff');\n",
              "        const dataTable =\n",
              "          await google.colab.kernel.invokeFunction('convertToInteractive',\n",
              "                                                    [key], {});\n",
              "        if (!dataTable) return;\n",
              "\n",
              "        const docLinkHtml = 'Like what you see? Visit the ' +\n",
              "          '<a target=\"_blank\" href=https://colab.research.google.com/notebooks/data_table.ipynb>data table notebook</a>'\n",
              "          + ' to learn more about interactive tables.';\n",
              "        element.innerHTML = '';\n",
              "        dataTable['output_type'] = 'display_data';\n",
              "        await google.colab.output.renderOutput(dataTable, element);\n",
              "        const docLink = document.createElement('div');\n",
              "        docLink.innerHTML = docLinkHtml;\n",
              "        element.appendChild(docLink);\n",
              "      }\n",
              "    </script>\n",
              "  </div>\n",
              "\n",
              "\n",
              "<div id=\"df-ed7237ff-ed93-478f-b550-20558dec4342\">\n",
              "  <button class=\"colab-df-quickchart\" onclick=\"quickchart('df-ed7237ff-ed93-478f-b550-20558dec4342')\"\n",
              "            title=\"Suggest charts\"\n",
              "            style=\"display:none;\">\n",
              "\n",
              "<svg xmlns=\"http://www.w3.org/2000/svg\" height=\"24px\"viewBox=\"0 0 24 24\"\n",
              "     width=\"24px\">\n",
              "    <g>\n",
              "        <path d=\"M19 3H5c-1.1 0-2 .9-2 2v14c0 1.1.9 2 2 2h14c1.1 0 2-.9 2-2V5c0-1.1-.9-2-2-2zM9 17H7v-7h2v7zm4 0h-2V7h2v10zm4 0h-2v-4h2v4z\"/>\n",
              "    </g>\n",
              "</svg>\n",
              "  </button>\n",
              "\n",
              "<style>\n",
              "  .colab-df-quickchart {\n",
              "      --bg-color: #E8F0FE;\n",
              "      --fill-color: #1967D2;\n",
              "      --hover-bg-color: #E2EBFA;\n",
              "      --hover-fill-color: #174EA6;\n",
              "      --disabled-fill-color: #AAA;\n",
              "      --disabled-bg-color: #DDD;\n",
              "  }\n",
              "\n",
              "  [theme=dark] .colab-df-quickchart {\n",
              "      --bg-color: #3B4455;\n",
              "      --fill-color: #D2E3FC;\n",
              "      --hover-bg-color: #434B5C;\n",
              "      --hover-fill-color: #FFFFFF;\n",
              "      --disabled-bg-color: #3B4455;\n",
              "      --disabled-fill-color: #666;\n",
              "  }\n",
              "\n",
              "  .colab-df-quickchart {\n",
              "    background-color: var(--bg-color);\n",
              "    border: none;\n",
              "    border-radius: 50%;\n",
              "    cursor: pointer;\n",
              "    display: none;\n",
              "    fill: var(--fill-color);\n",
              "    height: 32px;\n",
              "    padding: 0;\n",
              "    width: 32px;\n",
              "  }\n",
              "\n",
              "  .colab-df-quickchart:hover {\n",
              "    background-color: var(--hover-bg-color);\n",
              "    box-shadow: 0 1px 2px rgba(60, 64, 67, 0.3), 0 1px 3px 1px rgba(60, 64, 67, 0.15);\n",
              "    fill: var(--button-hover-fill-color);\n",
              "  }\n",
              "\n",
              "  .colab-df-quickchart-complete:disabled,\n",
              "  .colab-df-quickchart-complete:disabled:hover {\n",
              "    background-color: var(--disabled-bg-color);\n",
              "    fill: var(--disabled-fill-color);\n",
              "    box-shadow: none;\n",
              "  }\n",
              "\n",
              "  .colab-df-spinner {\n",
              "    border: 2px solid var(--fill-color);\n",
              "    border-color: transparent;\n",
              "    border-bottom-color: var(--fill-color);\n",
              "    animation:\n",
              "      spin 1s steps(1) infinite;\n",
              "  }\n",
              "\n",
              "  @keyframes spin {\n",
              "    0% {\n",
              "      border-color: transparent;\n",
              "      border-bottom-color: var(--fill-color);\n",
              "      border-left-color: var(--fill-color);\n",
              "    }\n",
              "    20% {\n",
              "      border-color: transparent;\n",
              "      border-left-color: var(--fill-color);\n",
              "      border-top-color: var(--fill-color);\n",
              "    }\n",
              "    30% {\n",
              "      border-color: transparent;\n",
              "      border-left-color: var(--fill-color);\n",
              "      border-top-color: var(--fill-color);\n",
              "      border-right-color: var(--fill-color);\n",
              "    }\n",
              "    40% {\n",
              "      border-color: transparent;\n",
              "      border-right-color: var(--fill-color);\n",
              "      border-top-color: var(--fill-color);\n",
              "    }\n",
              "    60% {\n",
              "      border-color: transparent;\n",
              "      border-right-color: var(--fill-color);\n",
              "    }\n",
              "    80% {\n",
              "      border-color: transparent;\n",
              "      border-right-color: var(--fill-color);\n",
              "      border-bottom-color: var(--fill-color);\n",
              "    }\n",
              "    90% {\n",
              "      border-color: transparent;\n",
              "      border-bottom-color: var(--fill-color);\n",
              "    }\n",
              "  }\n",
              "</style>\n",
              "\n",
              "  <script>\n",
              "    async function quickchart(key) {\n",
              "      const quickchartButtonEl =\n",
              "        document.querySelector('#' + key + ' button');\n",
              "      quickchartButtonEl.disabled = true;  // To prevent multiple clicks.\n",
              "      quickchartButtonEl.classList.add('colab-df-spinner');\n",
              "      try {\n",
              "        const charts = await google.colab.kernel.invokeFunction(\n",
              "            'suggestCharts', [key], {});\n",
              "      } catch (error) {\n",
              "        console.error('Error during call to suggestCharts:', error);\n",
              "      }\n",
              "      quickchartButtonEl.classList.remove('colab-df-spinner');\n",
              "      quickchartButtonEl.classList.add('colab-df-quickchart-complete');\n",
              "    }\n",
              "    (() => {\n",
              "      let quickchartButtonEl =\n",
              "        document.querySelector('#df-ed7237ff-ed93-478f-b550-20558dec4342 button');\n",
              "      quickchartButtonEl.style.display =\n",
              "        google.colab.kernel.accessAllowed ? 'block' : 'none';\n",
              "    })();\n",
              "  </script>\n",
              "</div>\n",
              "\n",
              "  <div id=\"id_1686d477-56e1-4e28-b98d-83f781c735f8\">\n",
              "    <style>\n",
              "      .colab-df-generate {\n",
              "        background-color: #E8F0FE;\n",
              "        border: none;\n",
              "        border-radius: 50%;\n",
              "        cursor: pointer;\n",
              "        display: none;\n",
              "        fill: #1967D2;\n",
              "        height: 32px;\n",
              "        padding: 0 0 0 0;\n",
              "        width: 32px;\n",
              "      }\n",
              "\n",
              "      .colab-df-generate:hover {\n",
              "        background-color: #E2EBFA;\n",
              "        box-shadow: 0px 1px 2px rgba(60, 64, 67, 0.3), 0px 1px 3px 1px rgba(60, 64, 67, 0.15);\n",
              "        fill: #174EA6;\n",
              "      }\n",
              "\n",
              "      [theme=dark] .colab-df-generate {\n",
              "        background-color: #3B4455;\n",
              "        fill: #D2E3FC;\n",
              "      }\n",
              "\n",
              "      [theme=dark] .colab-df-generate:hover {\n",
              "        background-color: #434B5C;\n",
              "        box-shadow: 0px 1px 3px 1px rgba(0, 0, 0, 0.15);\n",
              "        filter: drop-shadow(0px 1px 2px rgba(0, 0, 0, 0.3));\n",
              "        fill: #FFFFFF;\n",
              "      }\n",
              "    </style>\n",
              "    <button class=\"colab-df-generate\" onclick=\"generateWithVariable('df')\"\n",
              "            title=\"Generate code using this dataframe.\"\n",
              "            style=\"display:none;\">\n",
              "\n",
              "  <svg xmlns=\"http://www.w3.org/2000/svg\" height=\"24px\"viewBox=\"0 0 24 24\"\n",
              "       width=\"24px\">\n",
              "    <path d=\"M7,19H8.4L18.45,9,17,7.55,7,17.6ZM5,21V16.75L18.45,3.32a2,2,0,0,1,2.83,0l1.4,1.43a1.91,1.91,0,0,1,.58,1.4,1.91,1.91,0,0,1-.58,1.4L9.25,21ZM18.45,9,17,7.55Zm-12,3A5.31,5.31,0,0,0,4.9,8.1,5.31,5.31,0,0,0,1,6.5,5.31,5.31,0,0,0,4.9,4.9,5.31,5.31,0,0,0,6.5,1,5.31,5.31,0,0,0,8.1,4.9,5.31,5.31,0,0,0,12,6.5,5.46,5.46,0,0,0,6.5,12Z\"/>\n",
              "  </svg>\n",
              "    </button>\n",
              "    <script>\n",
              "      (() => {\n",
              "      const buttonEl =\n",
              "        document.querySelector('#id_1686d477-56e1-4e28-b98d-83f781c735f8 button.colab-df-generate');\n",
              "      buttonEl.style.display =\n",
              "        google.colab.kernel.accessAllowed ? 'block' : 'none';\n",
              "\n",
              "      buttonEl.onclick = () => {\n",
              "        google.colab.notebook.generateWithVariable('df');\n",
              "      }\n",
              "      })();\n",
              "    </script>\n",
              "  </div>\n",
              "\n",
              "    </div>\n",
              "  </div>\n"
            ],
            "application/vnd.google.colaboratory.intrinsic+json": {
              "type": "dataframe",
              "variable_name": "df",
              "summary": "{\n  \"name\": \"df\",\n  \"rows\": 5,\n  \"fields\": [\n    {\n      \"column\": \"x\",\n      \"properties\": {\n        \"dtype\": \"number\",\n        \"std\": 3,\n        \"min\": 2,\n        \"max\": 10,\n        \"num_unique_values\": 5,\n        \"samples\": [\n          4,\n          10,\n          6\n        ],\n        \"semantic_type\": \"\",\n        \"description\": \"\"\n      }\n    },\n    {\n      \"column\": \"y\",\n      \"properties\": {\n        \"dtype\": \"number\",\n        \"std\": 15,\n        \"min\": 60,\n        \"max\": 100,\n        \"num_unique_values\": 5,\n        \"samples\": [\n          70,\n          100,\n          80\n        ],\n        \"semantic_type\": \"\",\n        \"description\": \"\"\n      }\n    }\n  ]\n}"
            }
          },
          "metadata": {},
          "execution_count": 5
        }
      ]
    },
    {
      "cell_type": "code",
      "source": [
        "import numpy as np\n",
        "a=[2,4,6,8,10]\n",
        "b=[60,70,80,90,100]\n",
        "covariance= np.cov(a,b, bias=True)[0][1]\n",
        "print(covariance)\n"
      ],
      "metadata": {
        "colab": {
          "base_uri": "https://localhost:8080/"
        },
        "id": "Ymq0yMLvF_LL",
        "outputId": "0e7230db-37b4-4bff-9488-e03b7b30cf1b"
      },
      "execution_count": 9,
      "outputs": [
        {
          "output_type": "stream",
          "name": "stdout",
          "text": [
            "40.0\n"
          ]
        }
      ]
    },
    {
      "cell_type": "markdown",
      "source": [
        "Positive covariance suggests that as the x increses y also increases."
      ],
      "metadata": {
        "id": "aPDnWYshG-sk"
      }
    },
    {
      "cell_type": "code",
      "source": [
        "import numpy as np\n",
        "a=[2,4,6,8,10]\n",
        "b=[60,70,80,90,100]\n",
        "correlation= np.corrcoef(a,b)[0][1]\n",
        "print(correlation)"
      ],
      "metadata": {
        "colab": {
          "base_uri": "https://localhost:8080/"
        },
        "id": "7OVyFWmpGus8",
        "outputId": "dd57e4be-8f41-47d0-e921-43734822b6e9"
      },
      "execution_count": 10,
      "outputs": [
        {
          "output_type": "stream",
          "name": "stdout",
          "text": [
            "1.0\n"
          ]
        }
      ]
    },
    {
      "cell_type": "markdown",
      "source": [
        "correlation 1 suggests that there is a perfect posistive relationship between x and y."
      ],
      "metadata": {
        "id": "JMvfST-VHHZ9"
      }
    }
  ]
}